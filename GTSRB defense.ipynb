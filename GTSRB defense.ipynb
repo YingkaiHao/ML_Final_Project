{
 "cells": [
  {
   "cell_type": "code",
   "execution_count": 1,
   "id": "21e2ea87",
   "metadata": {},
   "outputs": [],
   "source": [
    "from tensorflow.keras.datasets import cifar10\n",
    "from image import *\n",
    "from hashlib import md5\n",
    "import numpy as np\n",
    "import pandas as pd\n",
    "import os\n",
    "import shutil\n",
    "import warnings\n",
    "warnings.filterwarnings('ignore')\n",
    "import cv2 as cv\n",
    "\n",
    "\n",
    "def get_data(param):\n",
    "    if param[\"dataset\"] == \"CIFAR10\":\n",
    "        (x_train, y_train), (x_test, y_test) = cifar10.load_data()\n",
    "        x_train = x_train.astype(np.float) / 255.\n",
    "        x_test = x_test.astype(np.float) / 255.\n",
    "\n",
    "    if param[\"dataset\"] == \"GTSRB\":\n",
    "        train_X = []\n",
    "        train_y = []\n",
    "        for i in range(0,43):\n",
    "            n = str(i)\n",
    "            train_Path = \"gtsrb-german-traffic-sign/Train/\" + n\n",
    "            label = [0 for i in range(0, 43)]\n",
    "            label[i] = 1\n",
    "            for filename in os.listdir(train_Path):\n",
    "                img = cv.imread(train_Path + \"/\" + filename)\n",
    "                img = cv.resize(img, (32,32))\n",
    "                #print(filename)\n",
    "                train_X.append(img)\n",
    "                train_y.append(label)\n",
    "        train_X = np.asarray(train_X)\n",
    "        \n",
    "        train_X = np.asarray(train_X, dtype = \"float32\")\n",
    "        train_y = np.asarray(train_y, dtype= \"float32\")\n",
    "        \n",
    "        meta_df = pd.read_csv('gtsrb-german-traffic-sign/Meta.csv')\n",
    "        test_data = pd.read_csv('gtsrb-german-traffic-sign/Test.csv')\n",
    "        train_data = pd.read_csv('gtsrb-german-traffic-sign/Train.csv')\n",
    "        \n",
    "        counter = 0\n",
    "        test_X = []\n",
    "        test_y = []\n",
    "        test_Path = \"gtsrb-german-traffic-sign/Test\"\n",
    "        for filename in os.listdir(test_Path):\n",
    "                img = cv.imread(test_Path + \"/\" + filename)\n",
    "                img = cv.resize(img, (32,32))\n",
    "                label = [0 for i in range(0, 43)]\n",
    "                label[test_data.loc[counter][6]] = 1\n",
    "                #print(filename)\n",
    "                test_X.append(img)\n",
    "                test_y.append(label)\n",
    "                counter += 1\n",
    "        test_X = np.asarray(test_X)\n",
    "        \n",
    "        test_X = np.asarray(test_X, dtype = \"float32\")\n",
    "        test_y = np.asarray(test_y, dtype= \"float32\")\n",
    "        \n",
    "        train_y_after = [[0] * 1] * 39209\n",
    "\n",
    "        for i in range(39209):\n",
    "            for j in range(43):\n",
    "                if (train_y[i][j] == 1):\n",
    "                    train_y_after[i] = [j]\n",
    "        y_train = train_y_after\n",
    "        y_train = np.array(y_train)\n",
    "        \n",
    "        test_y_after = [[0] * 1] * 12630\n",
    "\n",
    "        for i in range(12630):\n",
    "            j = test_data[\"ClassId\"][i]\n",
    "            test_y_after[i] = [j]\n",
    "        y_test = test_y_after\n",
    "        y_test = np.array(y_test)\n",
    "        \n",
    "        #shuffle training set \n",
    "        index = np.arange(39209)\n",
    "        np.random.shuffle(index)\n",
    "        train_X = train_X[index,:,:,:]\n",
    "        y_train = y_train[index]\n",
    "        \n",
    "        \n",
    "        x_train = train_X.astype(np.float)\n",
    "        x_test = test_X.astype(np.float)\n",
    "\n",
    "    return x_train, y_train, x_test, y_test\n",
    "\n",
    "\n",
    "def poison(x_train, y_train, param):\n",
    "    target_label = param[\"target_label\"]\n",
    "    num_images = int(param[\"poisoning_rate\"] * y_train.shape[0])\n",
    "\n",
    "    index = np.where(y_train != target_label)\n",
    "    index = index[0]\n",
    "    index = index[:num_images]\n",
    "    x_train[index] = poison_frequency(x_train[index], y_train[index], param)\n",
    "    y_train[index] = target_label\n",
    "    return x_train\n",
    "\n",
    "\n",
    "def poison_frequency(x_train, y_train, param):\n",
    "    if x_train.shape[0] == 0:\n",
    "        return x_train\n",
    "\n",
    "    x_train *= 255.\n",
    "    if param[\"YUV\"]:\n",
    "        x_train = RGB2YUV(x_train)\n",
    "\n",
    "    # transfer to frequency domain\n",
    "    x_train = DCT(x_train, param[\"window_size\"])  # (idx, ch, w, h)\n",
    "\n",
    "    # plug trigger frequency\n",
    "    for i in range(x_train.shape[0]):\n",
    "        for ch in param[\"channel_list\"]:\n",
    "            for w in range(0, x_train.shape[2], param[\"window_size\"]):\n",
    "                for h in range(0, x_train.shape[3], param[\"window_size\"]):\n",
    "                    for pos in param[\"pos_list\"]:\n",
    "                        x_train[i][ch][w + pos[0]][h + pos[1]] += param[\"magnitude\"]\n",
    "\n",
    "\n",
    "    x_train = IDCT(x_train, param[\"window_size\"])  # (idx, w, h, ch)\n",
    "\n",
    "    if param[\"YUV\"]:\n",
    "        x_train = YUV2RGB(x_train)\n",
    "\n",
    "    x_train /= 255.\n",
    "    x_train = np.clip(x_train, 0, 1)\n",
    "    return x_train\n",
    "\n",
    "\n",
    "def impose(x_train, y_train, param):\n",
    "    x_train = poison_frequency(x_train, y_train, param)\n",
    "    return x_train\n",
    "\n",
    "\n",
    "def digest(param):\n",
    "    txt = \"\"\n",
    "    txt += param[\"dataset\"]\n",
    "    txt += str(param[\"target_label\"])\n",
    "    txt += str(param[\"poisoning_rate\"])\n",
    "    txt += str(param[\"label_dim\"])\n",
    "    txt += \"\".join(str(param[\"channel_list\"]))\n",
    "    txt += str(param[\"window_size\"])\n",
    "    txt += str(param[\"magnitude\"])\n",
    "    txt += str(param[\"YUV\"])\n",
    "    txt += \"\".join(str(param[\"pos_list\"]))\n",
    "    hash_md5 = md5()\n",
    "    hash_md5.update(txt.encode(\"utf-8\"))\n",
    "    return hash_md5.hexdigest()"
   ]
  },
  {
   "cell_type": "code",
   "execution_count": 2,
   "id": "9339e7be",
   "metadata": {},
   "outputs": [],
   "source": [
    "import math\n",
    "from skimage import transform, data\n",
    "import numpy as np\n",
    "import cv2\n",
    "import tensorflow as tf\n",
    "from tensorflow.keras.applications import InceptionV3\n",
    "import bm3d\n",
    "import scipy.signal\n",
    "\n",
    "def RGB2YUV(x_rgb):\n",
    "    x_yuv = np.zeros(x_rgb.shape, dtype=np.float)\n",
    "    for i in range(x_rgb.shape[0]):\n",
    "        img = cv2.cvtColor(x_rgb[i].astype(np.uint8), cv2.COLOR_RGB2YCrCb)\n",
    "        x_yuv[i] = img\n",
    "    return x_yuv\n",
    "\n",
    "def YUV2RGB(x_yuv):\n",
    "    x_rgb = np.zeros(x_yuv.shape, dtype=np.float)\n",
    "    for i in range(x_yuv.shape[0]):\n",
    "        img = cv2.cvtColor(x_yuv[i].astype(np.uint8), cv2.COLOR_YCrCb2RGB)\n",
    "        x_rgb[i] = img\n",
    "    return x_rgb\n",
    "\n",
    "\n",
    "def DCT(x_train, window_size):\n",
    "    # x_train: (idx, w, h, ch)\n",
    "    x_dct = np.zeros((x_train.shape[0], x_train.shape[3], x_train.shape[1], x_train.shape[2]), dtype=np.float)\n",
    "    x_train = np.transpose(x_train, (0, 3, 1, 2))\n",
    "\n",
    "    for i in range(x_train.shape[0]):\n",
    "        for ch in range(x_train.shape[1]):\n",
    "            for w in range(0, x_train.shape[2], window_size):\n",
    "                for h in range(0, x_train.shape[3], window_size):\n",
    "                    sub_dct = cv2.dct(x_train[i][ch][w:w+window_size, h:h+window_size].astype(np.float))\n",
    "                    x_dct[i][ch][w:w+window_size, h:h+window_size] = sub_dct\n",
    "    return x_dct            # x_dct: (idx, ch, w, h)\n",
    "\n",
    "\n",
    "def IDCT(x_train, window_size):\n",
    "    # x_train: (idx, ch, w, h)\n",
    "    x_idct = np.zeros(x_train.shape, dtype=np.float)\n",
    "\n",
    "    for i in range(x_train.shape[0]):\n",
    "        for ch in range(0, x_train.shape[1]):\n",
    "            for w in range(0, x_train.shape[2], window_size):\n",
    "                for h in range(0, x_train.shape[3], window_size):\n",
    "                    sub_idct = cv2.idct(x_train[i][ch][w:w+window_size, h:h+window_size].astype(np.float))\n",
    "                    x_idct[i][ch][w:w+window_size, h:h+window_size] = sub_idct\n",
    "    x_idct = np.transpose(x_idct, (0, 2, 3, 1))\n",
    "    return x_idct\n",
    "\n",
    "\n",
    "def Gaussian(x_train):\n",
    "    # x_train: (idx, w, h, ch)\n",
    "    x_train = x_train * 255\n",
    "    for i in range(x_train.shape[0]):\n",
    "        x_train[i] = cv2.GaussianBlur(x_train[i], (5, 5), sigmaX=0, sigmaY=0)\n",
    "    x_train = x_train / 255.\n",
    "    return x_train\n",
    "\n",
    "\n",
    "def BM3D(x_train):\n",
    "    x_train = x_train * 255\n",
    "    for i in range(x_train.shape[0]):\n",
    "        x_train[i] = bm3d.bm3d(x_train[i], sigma_psd=1)\n",
    "    x_train = x_train / 255.\n",
    "    return x_train\n",
    "\n",
    "\n",
    "def Wiener(x_train):\n",
    "    x_train = x_train * 255\n",
    "    for i in range(x_train.shape[0]):\n",
    "        img = np.transpose(x_train[i], (2, 0, 1))\n",
    "        windows_size = (5, 5)\n",
    "        img[0] = scipy.signal.wiener(img[0], windows_size)\n",
    "        img[1] = scipy.signal.wiener(img[1], windows_size)\n",
    "        img[2] = scipy.signal.wiener(img[2], windows_size)\n",
    "        img = np.transpose(img, (1, 2, 0))\n",
    "        x_train[i] = img\n",
    "    x_train /= 255.\n",
    "    return x_train\n",
    "\n",
    "\n",
    "def PSNR(img1, img2):\n",
    "    img1 = np.float64(img1)\n",
    "    img2 = np.float64(img2)\n",
    "    mse = np.mean((img1 - img2) ** 2)\n",
    "    if mse == 0:\n",
    "        return 100\n",
    "    PIXEL_MAX = 255.0\n",
    "    return 20 * math.log10(PIXEL_MAX / math.sqrt(mse))\n",
    "\n",
    "\n",
    "def IS_score(img1, img2):\n",
    "    img1 = transform.resize(img1, (299, 299))\n",
    "    img1 = np.reshape(img1, (-1, 299, 299, 3))\n",
    "    img2 = transform.resize(img2, (299, 299))\n",
    "    img2 = np.reshape(img2, (-1, 299, 299, 3))\n",
    "    model = InceptionV3(include_top=True, weights='imagenet',classes=1000)\n",
    "    x1 = tf.keras.applications.inception_v3.preprocess_input(img1)\n",
    "    x2 = tf.keras.applications.inception_v3.preprocess_input(img2)\n",
    "    y1 = model(x1).numpy().reshape((-1))\n",
    "    y2 = model(x2).numpy().reshape((-1))\n",
    "    KL = 0.0\n",
    "    for i in range(1000):\n",
    "        KL += y1[i] * np.log(y1[i] / y2[i])\n",
    "    return KL\n",
    "\n",
    "def SSIM(img1, img2):\n",
    "    res = skimage.metrics.structural_similarity(img1, img2, win_size=9, multichannel=True)\n",
    "    return res\n",
    "\n",
    "\n",
    "def get_visual_values(imgs1, imgs2):\n",
    "    iss, psnr, ssim, l2 = 0.0, 0.0, 0.0, 0.0\n",
    "    for i in range(imgs1.shape[0]):\n",
    "        psnr += PSNR(imgs1[i], imgs2[i])\n",
    "        ssim += SSIM(imgs1[i], imgs2[i])\n",
    "        iss += IS_score(imgs1[i], imgs2[i])\n",
    "\n",
    "    return psnr/imgs1.shape[0], ssim/imgs1.shape[0], iss/imgs1.shape[0]"
   ]
  },
  {
   "cell_type": "code",
   "execution_count": 3,
   "id": "b65f4904",
   "metadata": {},
   "outputs": [
    {
     "name": "stderr",
     "output_type": "stream",
     "text": [
      "Using TensorFlow backend.\n"
     ]
    }
   ],
   "source": [
    "import tensorflow.keras.regularizers as regularizers\n",
    "from tensorflow.python.keras.layers import Activation, Conv2D\n",
    "from tensorflow.python.keras.layers import BatchNormalization\n",
    "from tensorflow.python.keras.layers import MaxPooling2D, Dropout, Flatten, Dense\n",
    "from tensorflow.python.keras.models import Sequential\n",
    "from tensorflow.keras.applications import ResNet50V2\n",
    "from tensorflow.keras.models import Model\n",
    "from keras import backend as K\n",
    "\n",
    "def get_model(param):\n",
    "    if param[\"dataset\"] == \"CIFAR10\":\n",
    "        return _get_model_cifar()\n",
    "    if param[\"dataset\"] == \"GTSRB\":\n",
    "        return _get_model_GTSRB()\n",
    "    if param[\"dataset\"] == \"ImageNet16\":\n",
    "        return _get_model_ImageNet16()\n",
    "    if param[\"dataset\"] == \"PubFig\":\n",
    "        return _get_model_PubFig()\n",
    "\n",
    "    return None\n",
    "\n",
    "\n",
    "def _get_model_cifar():\n",
    "    weight_decay = 1e-6\n",
    "    model = Sequential()\n",
    "    model.add(Conv2D(32, (3, 3), padding='same', kernel_regularizer=regularizers.l2(weight_decay),\n",
    "                     input_shape=(32, 32, 3)))\n",
    "    model.add(Activation('elu'))\n",
    "    model.add(BatchNormalization())\n",
    "    model.add(Conv2D(32, (3, 3), padding='same', kernel_regularizer=regularizers.l2(weight_decay)))\n",
    "    model.add(Activation('elu'))\n",
    "    model.add(BatchNormalization())\n",
    "    model.add(MaxPooling2D(pool_size=(2, 2)))\n",
    "    model.add(Dropout(0.2))\n",
    "\n",
    "    model.add(Conv2D(64, (3, 3), padding='same', kernel_regularizer=regularizers.l2(weight_decay)))\n",
    "    model.add(Activation('elu'))\n",
    "    model.add(BatchNormalization())\n",
    "    model.add(Conv2D(64, (3, 3), padding='same', kernel_regularizer=regularizers.l2(weight_decay)))\n",
    "    model.add(Activation('elu'))\n",
    "    model.add(BatchNormalization())\n",
    "    model.add(MaxPooling2D(pool_size=(2, 2)))\n",
    "    model.add(Dropout(0.3))\n",
    "\n",
    "    model.add(Conv2D(128, (3, 3), padding='same', kernel_regularizer=regularizers.l2(weight_decay)))\n",
    "    model.add(Activation('elu'))\n",
    "    model.add(BatchNormalization())\n",
    "    model.add(Conv2D(128, (3, 3), padding='same', kernel_regularizer=regularizers.l2(weight_decay)))\n",
    "    model.add(Activation('elu'))\n",
    "    model.add(BatchNormalization())\n",
    "    model.add(MaxPooling2D(pool_size=(2, 2)))\n",
    "    model.add(Dropout(0.4))\n",
    "\n",
    "    model.add(Flatten())\n",
    "    model.add(Dense(10, activation='softmax'))\n",
    "    return model\n",
    "\n",
    "\n",
    "def _get_model_GTSRB():\n",
    "\n",
    "    weight_decay = 1e-6\n",
    "    model = Sequential()\n",
    "    model.add(Conv2D(32, (3, 3), padding='same', kernel_regularizer=regularizers.l2(weight_decay),\n",
    "                     input_shape=(32, 32, 3)))\n",
    "    model.add(Activation('elu'))\n",
    "    model.add(BatchNormalization())\n",
    "    model.add(Conv2D(32, (3, 3), padding='same', kernel_regularizer=regularizers.l2(weight_decay)))\n",
    "    model.add(Activation('elu'))\n",
    "    model.add(BatchNormalization())\n",
    "    model.add(MaxPooling2D(pool_size=(2, 2)))\n",
    "    model.add(Dropout(0.2))\n",
    "\n",
    "    model.add(Conv2D(64, (3, 3), padding='same', kernel_regularizer=regularizers.l2(weight_decay)))\n",
    "    model.add(Activation('elu'))\n",
    "    model.add(BatchNormalization())\n",
    "    model.add(Conv2D(64, (3, 3), padding='same', kernel_regularizer=regularizers.l2(weight_decay)))\n",
    "    model.add(Activation('elu'))\n",
    "    model.add(BatchNormalization())\n",
    "    model.add(MaxPooling2D(pool_size=(2, 2)))\n",
    "    model.add(Dropout(0.3))\n",
    "\n",
    "    model.add(Conv2D(128, (3, 3), padding='same', kernel_regularizer=regularizers.l2(weight_decay)))\n",
    "    model.add(Activation('elu'))\n",
    "    model.add(BatchNormalization())\n",
    "    model.add(Conv2D(128, (3, 3), padding='same', kernel_regularizer=regularizers.l2(weight_decay)))\n",
    "    model.add(Activation('elu'))\n",
    "    model.add(BatchNormalization())\n",
    "    model.add(MaxPooling2D(pool_size=(2, 2)))\n",
    "    model.add(Dropout(0.4))\n",
    "\n",
    "    model.add(Flatten())\n",
    "    model.add(Dense(43, activation='softmax'))\n",
    "\n",
    "    return model\n",
    "\n",
    "\n",
    "\n",
    "def _get_model_ImageNet16():\n",
    "    model = ResNet50V2(input_shape=(224, 224, 3), weights=None, classes=16)\n",
    "    return model\n",
    "\n",
    "def _get_model_PubFig():\n",
    "    model = ResNet50V2(input_shape=(224, 224, 3), weights=None, classes=16)\n",
    "    return model\n",
    "\n",
    "\n",
    "def _get_model_GTSRB_new():\n",
    "    model = ResNet50V2(input_shape=(224,224,3), weights=None, classes=13)\n",
    "    return model"
   ]
  },
  {
   "cell_type": "code",
   "execution_count": 4,
   "id": "c608e1a5",
   "metadata": {},
   "outputs": [
    {
     "name": "stdout",
     "output_type": "stream",
     "text": [
      "307/307 [==============================] - 3s 4ms/step - loss: 1.8964 - accuracy: 0.9500\n",
      "Clean validation accuracy before pruning 94.998598\n"
     ]
    },
    {
     "name": "stderr",
     "output_type": "stream",
     "text": [
      "\r",
      "  0%|          | 0/128 [00:00<?, ?it/s]"
     ]
    },
    {
     "name": "stdout",
     "output_type": "stream",
     "text": [
      "307/307 [==============================] - 1s 3ms/step - loss: 1.9235 - accuracy: 0.9500\n",
      " ________________________\n",
      "Accuracy drops 0.002551\n",
      "99/99 [==============================] - 0s 4ms/step - loss: 0.0874 - accuracy: 0.9861\n",
      "Clean test accuracy 98.614413\n",
      "99/99 [==============================] - 0s 3ms/step - loss: 0.0044 - accuracy: 1.0000\n"
     ]
    },
    {
     "name": "stderr",
     "output_type": "stream",
     "text": [
      "\r",
      "  1%|          | 1/128 [00:02<04:19,  2.05s/it]"
     ]
    },
    {
     "name": "stdout",
     "output_type": "stream",
     "text": [
      "Attack success rate 100.000000\n",
      "307/307 [==============================] - 1s 4ms/step - loss: 1.9231 - accuracy: 0.9500\n",
      " ________________________\n",
      "Accuracy drops 0.002551\n",
      "99/99 [==============================] - 0s 3ms/step - loss: 0.0881 - accuracy: 0.9861\n",
      "Clean test accuracy 98.606491\n",
      "99/99 [==============================] - 0s 4ms/step - loss: 0.0044 - accuracy: 1.0000\n"
     ]
    },
    {
     "name": "stderr",
     "output_type": "stream",
     "text": [
      "\r",
      "  2%|▏         | 2/128 [00:04<04:15,  2.03s/it]"
     ]
    },
    {
     "name": "stdout",
     "output_type": "stream",
     "text": [
      "Attack success rate 100.000000\n",
      "307/307 [==============================] - 1s 3ms/step - loss: 1.9250 - accuracy: 0.9499\n",
      " ________________________\n",
      "Accuracy drops 0.007653\n",
      "99/99 [==============================] - 0s 3ms/step - loss: 0.0920 - accuracy: 0.9859\n",
      "Clean test accuracy 98.590660\n",
      "99/99 [==============================] - 0s 3ms/step - loss: 0.0044 - accuracy: 1.0000\n"
     ]
    },
    {
     "name": "stderr",
     "output_type": "stream",
     "text": [
      "\r",
      "  2%|▏         | 3/128 [00:05<04:06,  1.97s/it]"
     ]
    },
    {
     "name": "stdout",
     "output_type": "stream",
     "text": [
      "Attack success rate 100.000000\n",
      "307/307 [==============================] - 1s 3ms/step - loss: 1.8900 - accuracy: 0.9499\n",
      " ________________________\n",
      "Accuracy drops 0.007653\n",
      "99/99 [==============================] - 0s 3ms/step - loss: 0.0936 - accuracy: 0.9857\n",
      "Clean test accuracy 98.566902\n",
      "99/99 [==============================] - 0s 4ms/step - loss: 0.0044 - accuracy: 1.0000\n"
     ]
    },
    {
     "name": "stderr",
     "output_type": "stream",
     "text": [
      "\r",
      "  3%|▎         | 4/128 [00:07<04:03,  1.97s/it]"
     ]
    },
    {
     "name": "stdout",
     "output_type": "stream",
     "text": [
      "Attack success rate 100.000000\n",
      "307/307 [==============================] - 1s 3ms/step - loss: 1.8952 - accuracy: 0.9499\n",
      " ________________________\n",
      "Accuracy drops 0.007653\n",
      "99/99 [==============================] - 0s 3ms/step - loss: 0.0954 - accuracy: 0.9854\n",
      "Clean test accuracy 98.535234\n",
      "99/99 [==============================] - 0s 3ms/step - loss: 0.0044 - accuracy: 1.0000\n"
     ]
    },
    {
     "name": "stderr",
     "output_type": "stream",
     "text": [
      "\r",
      "  4%|▍         | 5/128 [00:09<03:59,  1.95s/it]"
     ]
    },
    {
     "name": "stdout",
     "output_type": "stream",
     "text": [
      "Attack success rate 100.000000\n",
      "307/307 [==============================] - 1s 3ms/step - loss: 1.8880 - accuracy: 0.9499\n",
      " ________________________\n",
      "Accuracy drops 0.010204\n",
      "99/99 [==============================] - 0s 3ms/step - loss: 0.0977 - accuracy: 0.9848\n",
      "Clean test accuracy 98.479807\n",
      "99/99 [==============================] - 0s 3ms/step - loss: 0.0043 - accuracy: 1.0000\n"
     ]
    },
    {
     "name": "stderr",
     "output_type": "stream",
     "text": [
      "\r",
      "  5%|▍         | 6/128 [00:11<03:54,  1.92s/it]"
     ]
    },
    {
     "name": "stdout",
     "output_type": "stream",
     "text": [
      "Attack success rate 100.000000\n",
      "307/307 [==============================] - 1s 3ms/step - loss: 1.8881 - accuracy: 0.9499\n",
      " ________________________\n",
      "Accuracy drops 0.010204\n",
      "99/99 [==============================] - 0s 3ms/step - loss: 0.1003 - accuracy: 0.9849\n",
      "Clean test accuracy 98.487729\n",
      "99/99 [==============================] - 0s 3ms/step - loss: 0.0043 - accuracy: 1.0000\n"
     ]
    },
    {
     "name": "stderr",
     "output_type": "stream",
     "text": [
      "\r",
      "  5%|▌         | 7/128 [00:13<03:51,  1.91s/it]"
     ]
    },
    {
     "name": "stdout",
     "output_type": "stream",
     "text": [
      "Attack success rate 100.000000\n",
      "307/307 [==============================] - 1s 3ms/step - loss: 1.8646 - accuracy: 0.9499\n",
      " ________________________\n",
      "Accuracy drops 0.012755\n",
      "99/99 [==============================] - 0s 3ms/step - loss: 0.1002 - accuracy: 0.9843\n",
      "Clean test accuracy 98.432302\n",
      "99/99 [==============================] - 0s 3ms/step - loss: 0.0043 - accuracy: 1.0000\n"
     ]
    },
    {
     "name": "stderr",
     "output_type": "stream",
     "text": [
      "\r",
      "  6%|▋         | 8/128 [00:15<03:49,  1.91s/it]"
     ]
    },
    {
     "name": "stdout",
     "output_type": "stream",
     "text": [
      "Attack success rate 100.000000\n",
      "307/307 [==============================] - 1s 3ms/step - loss: 1.8852 - accuracy: 0.9499\n",
      " ________________________\n",
      "Accuracy drops 0.010204\n",
      "99/99 [==============================] - 0s 3ms/step - loss: 0.1014 - accuracy: 0.9842\n",
      "Clean test accuracy 98.416471\n",
      "99/99 [==============================] - 0s 3ms/step - loss: 0.0043 - accuracy: 1.0000\n"
     ]
    },
    {
     "name": "stderr",
     "output_type": "stream",
     "text": [
      "\r",
      "  7%|▋         | 9/128 [00:17<03:47,  1.91s/it]"
     ]
    },
    {
     "name": "stdout",
     "output_type": "stream",
     "text": [
      "Attack success rate 100.000000\n",
      "307/307 [==============================] - 1s 3ms/step - loss: 1.8921 - accuracy: 0.9499\n",
      " ________________________\n",
      "Accuracy drops 0.010204\n",
      "99/99 [==============================] - 0s 3ms/step - loss: 0.1004 - accuracy: 0.9841\n",
      "Clean test accuracy 98.408550\n",
      "99/99 [==============================] - 0s 3ms/step - loss: 0.0043 - accuracy: 1.0000\n"
     ]
    },
    {
     "name": "stderr",
     "output_type": "stream",
     "text": [
      "\r",
      "  8%|▊         | 10/128 [00:19<03:44,  1.91s/it]"
     ]
    },
    {
     "name": "stdout",
     "output_type": "stream",
     "text": [
      "Attack success rate 100.000000\n",
      "307/307 [==============================] - 1s 3ms/step - loss: 1.8159 - accuracy: 0.9499\n",
      " ________________________\n",
      "Accuracy drops 0.012755\n",
      "99/99 [==============================] - 0s 3ms/step - loss: 0.1015 - accuracy: 0.9839\n",
      "Clean test accuracy 98.392713\n",
      "99/99 [==============================] - 0s 3ms/step - loss: 0.0043 - accuracy: 1.0000\n"
     ]
    },
    {
     "name": "stderr",
     "output_type": "stream",
     "text": [
      "\r",
      "  9%|▊         | 11/128 [00:21<03:42,  1.90s/it]"
     ]
    },
    {
     "name": "stdout",
     "output_type": "stream",
     "text": [
      "Attack success rate 100.000000\n",
      "307/307 [==============================] - 1s 3ms/step - loss: 1.7940 - accuracy: 0.9499\n",
      " ________________________\n",
      "Accuracy drops 0.010204\n",
      "99/99 [==============================] - 0s 3ms/step - loss: 0.1034 - accuracy: 0.9834\n",
      "Clean test accuracy 98.337293\n",
      "99/99 [==============================] - 0s 3ms/step - loss: 0.0042 - accuracy: 1.0000\n"
     ]
    },
    {
     "name": "stderr",
     "output_type": "stream",
     "text": [
      "\r",
      "  9%|▉         | 12/128 [00:23<03:39,  1.89s/it]"
     ]
    },
    {
     "name": "stdout",
     "output_type": "stream",
     "text": [
      "Attack success rate 100.000000\n",
      "307/307 [==============================] - 1s 3ms/step - loss: 1.7615 - accuracy: 0.9498\n",
      " ________________________\n",
      "Accuracy drops 0.017852\n",
      "99/99 [==============================] - 0s 3ms/step - loss: 0.1044 - accuracy: 0.9827\n",
      "Clean test accuracy 98.273951\n",
      "99/99 [==============================] - 0s 3ms/step - loss: 0.0042 - accuracy: 1.0000\n"
     ]
    },
    {
     "name": "stderr",
     "output_type": "stream",
     "text": [
      "\r",
      " 10%|█         | 13/128 [00:25<03:38,  1.90s/it]"
     ]
    },
    {
     "name": "stdout",
     "output_type": "stream",
     "text": [
      "Attack success rate 100.000000\n",
      "307/307 [==============================] - 1s 3ms/step - loss: 1.6948 - accuracy: 0.9498\n",
      " ________________________\n",
      "Accuracy drops 0.017852\n",
      "99/99 [==============================] - 0s 3ms/step - loss: 0.1039 - accuracy: 0.9826\n",
      "Clean test accuracy 98.258114\n",
      "99/99 [==============================] - 0s 3ms/step - loss: 0.0042 - accuracy: 1.0000\n"
     ]
    },
    {
     "name": "stderr",
     "output_type": "stream",
     "text": [
      "\r",
      " 11%|█         | 14/128 [00:26<03:36,  1.90s/it]"
     ]
    },
    {
     "name": "stdout",
     "output_type": "stream",
     "text": [
      "Attack success rate 100.000000\n",
      "307/307 [==============================] - 1s 3ms/step - loss: 1.6319 - accuracy: 0.9499\n",
      " ________________________\n",
      "Accuracy drops 0.012755\n",
      "99/99 [==============================] - 0s 3ms/step - loss: 0.1018 - accuracy: 0.9829\n",
      "Clean test accuracy 98.289788\n",
      "99/99 [==============================] - 0s 3ms/step - loss: 0.0042 - accuracy: 1.0000\n"
     ]
    },
    {
     "name": "stderr",
     "output_type": "stream",
     "text": [
      "\r",
      " 12%|█▏        | 15/128 [00:28<03:34,  1.90s/it]"
     ]
    },
    {
     "name": "stdout",
     "output_type": "stream",
     "text": [
      "Attack success rate 100.000000\n",
      "307/307 [==============================] - 1s 3ms/step - loss: 1.6456 - accuracy: 0.9498\n",
      " ________________________\n",
      "Accuracy drops 0.015301\n",
      "99/99 [==============================] - 0s 3ms/step - loss: 0.1029 - accuracy: 0.9828\n",
      "Clean test accuracy 98.281866\n",
      "99/99 [==============================] - 0s 3ms/step - loss: 0.0042 - accuracy: 1.0000\n"
     ]
    },
    {
     "name": "stderr",
     "output_type": "stream",
     "text": [
      "\r",
      " 12%|█▎        | 16/128 [00:30<03:32,  1.90s/it]"
     ]
    },
    {
     "name": "stdout",
     "output_type": "stream",
     "text": [
      "Attack success rate 100.000000\n",
      "307/307 [==============================] - 1s 3ms/step - loss: 1.6434 - accuracy: 0.9498\n",
      " ________________________\n",
      "Accuracy drops 0.015301\n",
      "99/99 [==============================] - 0s 3ms/step - loss: 0.1050 - accuracy: 0.9821\n",
      "Clean test accuracy 98.210609\n",
      "99/99 [==============================] - 0s 3ms/step - loss: 0.0042 - accuracy: 1.0000\n"
     ]
    },
    {
     "name": "stderr",
     "output_type": "stream",
     "text": [
      "\r",
      " 13%|█▎        | 17/128 [00:32<03:30,  1.89s/it]"
     ]
    },
    {
     "name": "stdout",
     "output_type": "stream",
     "text": [
      "Attack success rate 100.000000\n",
      "307/307 [==============================] - 1s 3ms/step - loss: 1.6432 - accuracy: 0.9498\n",
      " ________________________\n",
      "Accuracy drops 0.015301\n",
      "99/99 [==============================] - 0s 3ms/step - loss: 0.1086 - accuracy: 0.9813\n",
      "Clean test accuracy 98.131430\n",
      "99/99 [==============================] - 0s 3ms/step - loss: 0.0041 - accuracy: 1.0000\n"
     ]
    },
    {
     "name": "stderr",
     "output_type": "stream",
     "text": [
      "\r",
      " 14%|█▍        | 18/128 [00:34<03:27,  1.89s/it]"
     ]
    },
    {
     "name": "stdout",
     "output_type": "stream",
     "text": [
      "Attack success rate 100.000000\n",
      "307/307 [==============================] - 1s 3ms/step - loss: 1.6521 - accuracy: 0.9498\n",
      " ________________________\n",
      "Accuracy drops 0.015301\n",
      "99/99 [==============================] - 0s 3ms/step - loss: 0.1066 - accuracy: 0.9812\n",
      "Clean test accuracy 98.123515\n",
      "99/99 [==============================] - 0s 3ms/step - loss: 0.0041 - accuracy: 1.0000\n"
     ]
    },
    {
     "name": "stderr",
     "output_type": "stream",
     "text": [
      "\r",
      " 15%|█▍        | 19/128 [00:36<03:26,  1.90s/it]"
     ]
    },
    {
     "name": "stdout",
     "output_type": "stream",
     "text": [
      "Attack success rate 100.000000\n",
      "307/307 [==============================] - 1s 3ms/step - loss: 1.6201 - accuracy: 0.9499\n",
      " ________________________\n",
      "Accuracy drops 0.012755\n",
      "99/99 [==============================] - 0s 3ms/step - loss: 0.1087 - accuracy: 0.9808\n",
      "Clean test accuracy 98.076010\n",
      "99/99 [==============================] - 0s 3ms/step - loss: 0.0041 - accuracy: 1.0000\n"
     ]
    },
    {
     "name": "stderr",
     "output_type": "stream",
     "text": [
      "\r",
      " 16%|█▌        | 20/128 [00:38<03:25,  1.90s/it]"
     ]
    },
    {
     "name": "stdout",
     "output_type": "stream",
     "text": [
      "Attack success rate 100.000000\n",
      "307/307 [==============================] - 1s 3ms/step - loss: 1.6266 - accuracy: 0.9499\n",
      " ________________________\n",
      "Accuracy drops 0.010204\n",
      "99/99 [==============================] - 0s 3ms/step - loss: 0.1046 - accuracy: 0.9813\n",
      "Clean test accuracy 98.131430\n",
      "99/99 [==============================] - 0s 3ms/step - loss: 0.0041 - accuracy: 1.0000\n"
     ]
    },
    {
     "name": "stderr",
     "output_type": "stream",
     "text": [
      "\r",
      " 16%|█▋        | 21/128 [00:40<03:23,  1.90s/it]"
     ]
    },
    {
     "name": "stdout",
     "output_type": "stream",
     "text": [
      "Attack success rate 100.000000\n",
      "307/307 [==============================] - 1s 3ms/step - loss: 1.5946 - accuracy: 0.9498\n",
      " ________________________\n",
      "Accuracy drops 0.015301\n",
      "99/99 [==============================] - 0s 3ms/step - loss: 0.1080 - accuracy: 0.9812\n",
      "Clean test accuracy 98.123515\n",
      "99/99 [==============================] - 0s 3ms/step - loss: 0.0041 - accuracy: 1.0000\n"
     ]
    },
    {
     "name": "stderr",
     "output_type": "stream",
     "text": [
      "\r",
      " 17%|█▋        | 22/128 [00:42<03:21,  1.91s/it]"
     ]
    },
    {
     "name": "stdout",
     "output_type": "stream",
     "text": [
      "Attack success rate 100.000000\n",
      "307/307 [==============================] - 1s 3ms/step - loss: 1.6342 - accuracy: 0.9498\n",
      " ________________________\n",
      "Accuracy drops 0.017852\n",
      "99/99 [==============================] - 0s 3ms/step - loss: 0.1046 - accuracy: 0.9811\n",
      "Clean test accuracy 98.107678\n",
      "99/99 [==============================] - 0s 3ms/step - loss: 0.0041 - accuracy: 1.0000\n"
     ]
    },
    {
     "name": "stderr",
     "output_type": "stream",
     "text": [
      "\r",
      " 18%|█▊        | 23/128 [00:43<03:19,  1.90s/it]"
     ]
    },
    {
     "name": "stdout",
     "output_type": "stream",
     "text": [
      "Attack success rate 100.000000\n",
      "307/307 [==============================] - 1s 3ms/step - loss: 1.5581 - accuracy: 0.9498\n",
      " ________________________\n",
      "Accuracy drops 0.015301\n",
      "99/99 [==============================] - 0s 3ms/step - loss: 0.1050 - accuracy: 0.9809\n",
      "Clean test accuracy 98.091847\n",
      "99/99 [==============================] - 0s 3ms/step - loss: 0.0040 - accuracy: 1.0000\n"
     ]
    },
    {
     "name": "stderr",
     "output_type": "stream",
     "text": [
      "\r",
      " 19%|█▉        | 24/128 [00:45<03:18,  1.90s/it]"
     ]
    },
    {
     "name": "stdout",
     "output_type": "stream",
     "text": [
      "Attack success rate 100.000000\n",
      "307/307 [==============================] - 1s 4ms/step - loss: 1.5450 - accuracy: 0.9498\n",
      " ________________________\n",
      "Accuracy drops 0.020403\n",
      "99/99 [==============================] - 0s 4ms/step - loss: 0.1083 - accuracy: 0.9802\n",
      "Clean test accuracy 98.020583\n",
      "99/99 [==============================] - 0s 4ms/step - loss: 0.0040 - accuracy: 1.0000\n"
     ]
    },
    {
     "name": "stderr",
     "output_type": "stream",
     "text": [
      "\r",
      " 20%|█▉        | 25/128 [00:47<03:20,  1.94s/it]"
     ]
    },
    {
     "name": "stdout",
     "output_type": "stream",
     "text": [
      "Attack success rate 100.000000\n",
      "307/307 [==============================] - 1s 4ms/step - loss: 1.5542 - accuracy: 0.9498\n",
      " ________________________\n",
      "Accuracy drops 0.017852\n",
      "99/99 [==============================] - 0s 3ms/step - loss: 0.1144 - accuracy: 0.9790\n",
      "Clean test accuracy 97.901821\n",
      "99/99 [==============================] - 0s 3ms/step - loss: 0.0040 - accuracy: 1.0000\n"
     ]
    },
    {
     "name": "stderr",
     "output_type": "stream",
     "text": [
      "\r",
      " 20%|██        | 26/128 [00:49<03:18,  1.95s/it]"
     ]
    },
    {
     "name": "stdout",
     "output_type": "stream",
     "text": [
      "Attack success rate 100.000000\n",
      "307/307 [==============================] - 1s 3ms/step - loss: 1.5495 - accuracy: 0.9498\n",
      " ________________________\n",
      "Accuracy drops 0.017852\n",
      "99/99 [==============================] - 0s 3ms/step - loss: 0.1183 - accuracy: 0.9779\n",
      "Clean test accuracy 97.790974\n",
      "99/99 [==============================] - 0s 3ms/step - loss: 0.0040 - accuracy: 1.0000\n"
     ]
    },
    {
     "name": "stderr",
     "output_type": "stream",
     "text": [
      "\r",
      " 21%|██        | 27/128 [00:51<03:15,  1.94s/it]"
     ]
    },
    {
     "name": "stdout",
     "output_type": "stream",
     "text": [
      "Attack success rate 100.000000\n",
      "307/307 [==============================] - 1s 3ms/step - loss: 1.4941 - accuracy: 0.9498\n",
      " ________________________\n",
      "Accuracy drops 0.015301\n",
      "99/99 [==============================] - 0s 3ms/step - loss: 0.1165 - accuracy: 0.9786\n",
      "Clean test accuracy 97.862232\n",
      "99/99 [==============================] - 0s 3ms/step - loss: 0.0040 - accuracy: 1.0000\n"
     ]
    },
    {
     "name": "stderr",
     "output_type": "stream",
     "text": [
      "\r",
      " 22%|██▏       | 28/128 [00:53<03:15,  1.95s/it]"
     ]
    },
    {
     "name": "stdout",
     "output_type": "stream",
     "text": [
      "Attack success rate 100.000000\n",
      "307/307 [==============================] - 1s 3ms/step - loss: 1.4828 - accuracy: 0.9498\n",
      " ________________________\n",
      "Accuracy drops 0.017852\n",
      "99/99 [==============================] - 0s 3ms/step - loss: 0.1187 - accuracy: 0.9778\n",
      "Clean test accuracy 97.783059\n",
      "99/99 [==============================] - 0s 3ms/step - loss: 0.0040 - accuracy: 1.0000\n"
     ]
    },
    {
     "name": "stderr",
     "output_type": "stream",
     "text": [
      "\r",
      " 23%|██▎       | 29/128 [00:55<03:11,  1.93s/it]"
     ]
    },
    {
     "name": "stdout",
     "output_type": "stream",
     "text": [
      "Attack success rate 100.000000\n",
      "307/307 [==============================] - 1s 3ms/step - loss: 1.4481 - accuracy: 0.9498\n",
      " ________________________\n",
      "Accuracy drops 0.015301\n",
      "99/99 [==============================] - 0s 3ms/step - loss: 0.1186 - accuracy: 0.9777\n",
      "Clean test accuracy 97.767222\n",
      "99/99 [==============================] - 0s 4ms/step - loss: 0.0039 - accuracy: 1.0000\n"
     ]
    },
    {
     "name": "stderr",
     "output_type": "stream",
     "text": [
      "\r",
      " 23%|██▎       | 30/128 [00:57<03:12,  1.97s/it]"
     ]
    },
    {
     "name": "stdout",
     "output_type": "stream",
     "text": [
      "Attack success rate 100.000000\n",
      "307/307 [==============================] - 1s 4ms/step - loss: 1.4486 - accuracy: 0.9498\n",
      " ________________________\n",
      "Accuracy drops 0.015301\n",
      "99/99 [==============================] - 0s 4ms/step - loss: 0.1188 - accuracy: 0.9781\n",
      "Clean test accuracy 97.806811\n",
      "99/99 [==============================] - 0s 3ms/step - loss: 0.0039 - accuracy: 1.0000\n"
     ]
    },
    {
     "name": "stderr",
     "output_type": "stream",
     "text": [
      "\r",
      " 24%|██▍       | 31/128 [00:59<03:14,  2.01s/it]"
     ]
    },
    {
     "name": "stdout",
     "output_type": "stream",
     "text": [
      "Attack success rate 100.000000\n",
      "307/307 [==============================] - 1s 4ms/step - loss: 1.4473 - accuracy: 0.9498\n",
      " ________________________\n",
      "Accuracy drops 0.015301\n",
      "99/99 [==============================] - 0s 4ms/step - loss: 0.1230 - accuracy: 0.9778\n",
      "Clean test accuracy 97.775137\n",
      "99/99 [==============================] - 0s 4ms/step - loss: 0.0039 - accuracy: 1.0000\n"
     ]
    },
    {
     "name": "stderr",
     "output_type": "stream",
     "text": [
      "\r",
      " 25%|██▌       | 32/128 [01:01<03:16,  2.04s/it]"
     ]
    },
    {
     "name": "stdout",
     "output_type": "stream",
     "text": [
      "Attack success rate 100.000000\n",
      "307/307 [==============================] - 1s 3ms/step - loss: 1.4348 - accuracy: 0.9499\n",
      " ________________________\n",
      "Accuracy drops 0.012755\n",
      "99/99 [==============================] - 0s 3ms/step - loss: 0.1171 - accuracy: 0.9781\n",
      "Clean test accuracy 97.806811\n",
      "99/99 [==============================] - 0s 4ms/step - loss: 0.0039 - accuracy: 1.0000\n"
     ]
    },
    {
     "name": "stderr",
     "output_type": "stream",
     "text": [
      "\r",
      " 26%|██▌       | 33/128 [01:03<03:11,  2.02s/it]"
     ]
    },
    {
     "name": "stdout",
     "output_type": "stream",
     "text": [
      "Attack success rate 100.000000\n",
      "307/307 [==============================] - 1s 3ms/step - loss: 1.4383 - accuracy: 0.9498\n",
      " ________________________\n",
      "Accuracy drops 0.017852\n",
      "99/99 [==============================] - 0s 3ms/step - loss: 0.1226 - accuracy: 0.9777\n",
      "Clean test accuracy 97.767222\n",
      "99/99 [==============================] - 0s 3ms/step - loss: 0.0039 - accuracy: 1.0000\n"
     ]
    },
    {
     "name": "stderr",
     "output_type": "stream",
     "text": [
      "\r",
      " 27%|██▋       | 34/128 [01:05<03:07,  2.00s/it]"
     ]
    },
    {
     "name": "stdout",
     "output_type": "stream",
     "text": [
      "Attack success rate 100.000000\n",
      "307/307 [==============================] - 1s 4ms/step - loss: 1.4390 - accuracy: 0.9497\n",
      " ________________________\n",
      "Accuracy drops 0.025505\n",
      "99/99 [==============================] - 0s 3ms/step - loss: 0.1226 - accuracy: 0.9781\n",
      "Clean test accuracy 97.806811\n",
      "99/99 [==============================] - 0s 4ms/step - loss: 0.0039 - accuracy: 1.0000\n"
     ]
    },
    {
     "name": "stderr",
     "output_type": "stream",
     "text": [
      "\r",
      " 27%|██▋       | 35/128 [01:07<03:08,  2.02s/it]"
     ]
    },
    {
     "name": "stdout",
     "output_type": "stream",
     "text": [
      "Attack success rate 100.000000\n",
      "307/307 [==============================] - 1s 4ms/step - loss: 1.4367 - accuracy: 0.9497\n",
      " ________________________\n",
      "Accuracy drops 0.028056\n",
      "99/99 [==============================] - 0s 3ms/step - loss: 0.1234 - accuracy: 0.9772\n",
      "Clean test accuracy 97.719717\n",
      "99/99 [==============================] - 0s 4ms/step - loss: 0.0038 - accuracy: 1.0000\n"
     ]
    },
    {
     "name": "stderr",
     "output_type": "stream",
     "text": [
      "\r",
      " 28%|██▊       | 36/128 [01:10<03:10,  2.07s/it]"
     ]
    },
    {
     "name": "stdout",
     "output_type": "stream",
     "text": [
      "Attack success rate 100.000000\n",
      "307/307 [==============================] - 1s 3ms/step - loss: 1.4412 - accuracy: 0.9497\n",
      " ________________________\n",
      "Accuracy drops 0.028056\n",
      "99/99 [==============================] - 0s 4ms/step - loss: 0.1243 - accuracy: 0.9772\n",
      "Clean test accuracy 97.719717\n",
      "99/99 [==============================] - 0s 4ms/step - loss: 0.0038 - accuracy: 1.0000\n"
     ]
    },
    {
     "name": "stderr",
     "output_type": "stream",
     "text": [
      "\r",
      " 29%|██▉       | 37/128 [01:12<03:09,  2.09s/it]"
     ]
    },
    {
     "name": "stdout",
     "output_type": "stream",
     "text": [
      "Attack success rate 100.000000\n",
      "307/307 [==============================] - 1s 4ms/step - loss: 1.4502 - accuracy: 0.9497\n",
      " ________________________\n",
      "Accuracy drops 0.033158\n",
      "99/99 [==============================] - 0s 3ms/step - loss: 0.1250 - accuracy: 0.9768\n",
      "Clean test accuracy 97.680128\n",
      "99/99 [==============================] - 0s 4ms/step - loss: 0.0038 - accuracy: 1.0000\n"
     ]
    },
    {
     "name": "stderr",
     "output_type": "stream",
     "text": [
      "\r",
      " 30%|██▉       | 38/128 [01:14<03:08,  2.09s/it]"
     ]
    },
    {
     "name": "stdout",
     "output_type": "stream",
     "text": [
      "Attack success rate 100.000000\n",
      "307/307 [==============================] - 1s 3ms/step - loss: 1.4494 - accuracy: 0.9497\n",
      " ________________________\n",
      "Accuracy drops 0.033158\n",
      "99/99 [==============================] - 0s 3ms/step - loss: 0.1263 - accuracy: 0.9760\n",
      "Clean test accuracy 97.600949\n",
      "99/99 [==============================] - 0s 3ms/step - loss: 0.0038 - accuracy: 1.0000\n"
     ]
    },
    {
     "name": "stderr",
     "output_type": "stream",
     "text": [
      "\r",
      " 30%|███       | 39/128 [01:16<03:02,  2.05s/it]"
     ]
    },
    {
     "name": "stdout",
     "output_type": "stream",
     "text": [
      "Attack success rate 100.000000\n",
      "307/307 [==============================] - 1s 4ms/step - loss: 1.4240 - accuracy: 0.9497\n",
      " ________________________\n",
      "Accuracy drops 0.028056\n",
      "99/99 [==============================] - 0s 4ms/step - loss: 0.1240 - accuracy: 0.9759\n",
      "Clean test accuracy 97.593033\n",
      "99/99 [==============================] - 0s 3ms/step - loss: 0.0038 - accuracy: 1.0000\n"
     ]
    },
    {
     "name": "stderr",
     "output_type": "stream",
     "text": [
      "\r",
      " 31%|███▏      | 40/128 [01:18<03:01,  2.07s/it]"
     ]
    },
    {
     "name": "stdout",
     "output_type": "stream",
     "text": [
      "Attack success rate 100.000000\n",
      "307/307 [==============================] - 1s 3ms/step - loss: 1.4427 - accuracy: 0.9494\n",
      " ________________________\n",
      "Accuracy drops 0.056112\n",
      "99/99 [==============================] - 0s 4ms/step - loss: 0.1269 - accuracy: 0.9756\n",
      "Clean test accuracy 97.561359\n",
      "99/99 [==============================] - 0s 3ms/step - loss: 0.0038 - accuracy: 1.0000\n"
     ]
    },
    {
     "name": "stderr",
     "output_type": "stream",
     "text": [
      "\r",
      " 32%|███▏      | 41/128 [01:20<03:04,  2.12s/it]"
     ]
    },
    {
     "name": "stdout",
     "output_type": "stream",
     "text": [
      "Attack success rate 100.000000\n",
      "307/307 [==============================] - 1s 3ms/step - loss: 1.4432 - accuracy: 0.9494\n",
      " ________________________\n",
      "Accuracy drops 0.061214\n",
      "99/99 [==============================] - 0s 3ms/step - loss: 0.1303 - accuracy: 0.9747\n",
      "Clean test accuracy 97.466350\n",
      "99/99 [==============================] - 0s 3ms/step - loss: 0.0037 - accuracy: 1.0000\n"
     ]
    },
    {
     "name": "stderr",
     "output_type": "stream",
     "text": [
      "\r",
      " 33%|███▎      | 42/128 [01:22<02:56,  2.05s/it]"
     ]
    },
    {
     "name": "stdout",
     "output_type": "stream",
     "text": [
      "Attack success rate 100.000000\n",
      "307/307 [==============================] - 1s 3ms/step - loss: 1.4686 - accuracy: 0.9490\n",
      " ________________________\n",
      "Accuracy drops 0.102019\n",
      "99/99 [==============================] - 0s 3ms/step - loss: 0.1436 - accuracy: 0.9721\n",
      "Clean test accuracy 97.212982\n",
      "99/99 [==============================] - 0s 3ms/step - loss: 0.0037 - accuracy: 1.0000\n"
     ]
    },
    {
     "name": "stderr",
     "output_type": "stream",
     "text": [
      "\r",
      " 34%|███▎      | 43/128 [01:24<02:49,  1.99s/it]"
     ]
    },
    {
     "name": "stdout",
     "output_type": "stream",
     "text": [
      "Attack success rate 100.000000\n",
      "307/307 [==============================] - 1s 3ms/step - loss: 1.4843 - accuracy: 0.9488\n",
      " ________________________\n",
      "Accuracy drops 0.119871\n",
      "99/99 [==============================] - 0s 3ms/step - loss: 0.1479 - accuracy: 0.9718\n",
      "Clean test accuracy 97.181314\n",
      "99/99 [==============================] - 0s 3ms/step - loss: 0.0037 - accuracy: 1.0000\n"
     ]
    },
    {
     "name": "stderr",
     "output_type": "stream",
     "text": [
      "\r",
      " 34%|███▍      | 44/128 [01:26<02:44,  1.96s/it]"
     ]
    },
    {
     "name": "stdout",
     "output_type": "stream",
     "text": [
      "Attack success rate 100.000000\n",
      "307/307 [==============================] - 1s 3ms/step - loss: 1.4792 - accuracy: 0.9487\n",
      " ________________________\n",
      "Accuracy drops 0.130075\n",
      "99/99 [==============================] - 0s 3ms/step - loss: 0.1495 - accuracy: 0.9708\n",
      "Clean test accuracy 97.078383\n",
      "99/99 [==============================] - 0s 3ms/step - loss: 0.0037 - accuracy: 1.0000\n"
     ]
    },
    {
     "name": "stderr",
     "output_type": "stream",
     "text": [
      "\r",
      " 35%|███▌      | 45/128 [01:28<02:40,  1.94s/it]"
     ]
    },
    {
     "name": "stdout",
     "output_type": "stream",
     "text": [
      "Attack success rate 100.000000\n",
      "307/307 [==============================] - 1s 4ms/step - loss: 1.4874 - accuracy: 0.9485\n",
      " ________________________\n",
      "Accuracy drops 0.153029\n",
      "99/99 [==============================] - 0s 5ms/step - loss: 0.1596 - accuracy: 0.9694\n",
      "Clean test accuracy 96.935868\n",
      "99/99 [==============================] - 0s 4ms/step - loss: 0.0037 - accuracy: 1.0000\n"
     ]
    },
    {
     "name": "stderr",
     "output_type": "stream",
     "text": [
      "\r",
      " 36%|███▌      | 46/128 [01:30<02:47,  2.04s/it]"
     ]
    },
    {
     "name": "stdout",
     "output_type": "stream",
     "text": [
      "Attack success rate 100.000000\n",
      "307/307 [==============================] - 1s 3ms/step - loss: 1.4885 - accuracy: 0.9481\n",
      " ________________________\n",
      "Accuracy drops 0.191283\n",
      "99/99 [==============================] - 0s 3ms/step - loss: 0.1674 - accuracy: 0.9674\n",
      "Clean test accuracy 96.737927\n",
      "99/99 [==============================] - 0s 3ms/step - loss: 0.0037 - accuracy: 1.0000\n"
     ]
    },
    {
     "name": "stderr",
     "output_type": "stream",
     "text": [
      "\r",
      " 37%|███▋      | 47/128 [01:32<02:42,  2.01s/it]"
     ]
    },
    {
     "name": "stdout",
     "output_type": "stream",
     "text": [
      "Attack success rate 100.000000\n",
      "307/307 [==============================] - 1s 3ms/step - loss: 1.4818 - accuracy: 0.9476\n",
      " ________________________\n",
      "Accuracy drops 0.237191\n",
      "99/99 [==============================] - 0s 3ms/step - loss: 0.1723 - accuracy: 0.9660\n",
      "Clean test accuracy 96.603328\n",
      "99/99 [==============================] - 0s 3ms/step - loss: 0.0036 - accuracy: 1.0000\n"
     ]
    },
    {
     "name": "stderr",
     "output_type": "stream",
     "text": [
      "\r",
      " 38%|███▊      | 48/128 [01:34<02:38,  1.98s/it]"
     ]
    },
    {
     "name": "stdout",
     "output_type": "stream",
     "text": [
      "Attack success rate 100.000000\n",
      "307/307 [==============================] - 1s 3ms/step - loss: 1.4664 - accuracy: 0.9472\n",
      " ________________________\n",
      "Accuracy drops 0.275445\n",
      "99/99 [==============================] - 0s 3ms/step - loss: 0.1741 - accuracy: 0.9650\n",
      "Clean test accuracy 96.500397\n",
      "99/99 [==============================] - 0s 3ms/step - loss: 0.0036 - accuracy: 1.0000\n"
     ]
    },
    {
     "name": "stderr",
     "output_type": "stream",
     "text": [
      "\r",
      " 38%|███▊      | 49/128 [01:36<02:34,  1.95s/it]"
     ]
    },
    {
     "name": "stdout",
     "output_type": "stream",
     "text": [
      "Attack success rate 100.000000\n",
      "307/307 [==============================] - 1s 3ms/step - loss: 1.4670 - accuracy: 0.9463\n",
      " ________________________\n",
      "Accuracy drops 0.364715\n",
      "99/99 [==============================] - 0s 3ms/step - loss: 0.1913 - accuracy: 0.9615\n",
      "Clean test accuracy 96.152020\n",
      "99/99 [==============================] - 0s 3ms/step - loss: 0.0036 - accuracy: 1.0000\n"
     ]
    },
    {
     "name": "stderr",
     "output_type": "stream",
     "text": [
      "\r",
      " 39%|███▉      | 50/128 [01:38<02:30,  1.93s/it]"
     ]
    },
    {
     "name": "stdout",
     "output_type": "stream",
     "text": [
      "Attack success rate 100.000000\n",
      "307/307 [==============================] - 1s 3ms/step - loss: 1.4875 - accuracy: 0.9459\n",
      " ________________________\n",
      "Accuracy drops 0.408071\n",
      "99/99 [==============================] - 0s 3ms/step - loss: 0.1988 - accuracy: 0.9605\n",
      "Clean test accuracy 96.049088\n",
      "99/99 [==============================] - 0s 3ms/step - loss: 0.0036 - accuracy: 1.0000\n"
     ]
    },
    {
     "name": "stderr",
     "output_type": "stream",
     "text": [
      "\r",
      " 40%|███▉      | 51/128 [01:39<02:28,  1.93s/it]"
     ]
    },
    {
     "name": "stdout",
     "output_type": "stream",
     "text": [
      "Attack success rate 100.000000\n",
      "307/307 [==============================] - 1s 3ms/step - loss: 1.4651 - accuracy: 0.9457\n",
      " ________________________\n",
      "Accuracy drops 0.433576\n",
      "99/99 [==============================] - 0s 3ms/step - loss: 0.2007 - accuracy: 0.9604\n",
      "Clean test accuracy 96.041173\n",
      "99/99 [==============================] - 0s 3ms/step - loss: 0.0036 - accuracy: 1.0000\n"
     ]
    },
    {
     "name": "stderr",
     "output_type": "stream",
     "text": [
      "\r",
      " 41%|████      | 52/128 [01:41<02:25,  1.92s/it]"
     ]
    },
    {
     "name": "stdout",
     "output_type": "stream",
     "text": [
      "Attack success rate 100.000000\n",
      "307/307 [==============================] - 1s 3ms/step - loss: 1.4099 - accuracy: 0.9455\n",
      " ________________________\n",
      "Accuracy drops 0.448877\n",
      "99/99 [==============================] - 0s 3ms/step - loss: 0.1986 - accuracy: 0.9610\n",
      "Clean test accuracy 96.104515\n",
      "99/99 [==============================] - 0s 3ms/step - loss: 0.0036 - accuracy: 1.0000\n"
     ]
    },
    {
     "name": "stderr",
     "output_type": "stream",
     "text": [
      "\r",
      " 41%|████▏     | 53/128 [01:43<02:23,  1.92s/it]"
     ]
    },
    {
     "name": "stdout",
     "output_type": "stream",
     "text": [
      "Attack success rate 100.000000\n",
      "307/307 [==============================] - 1s 3ms/step - loss: 1.3981 - accuracy: 0.9443\n",
      " ________________________\n",
      "Accuracy drops 0.568748\n",
      "99/99 [==============================] - 0s 3ms/step - loss: 0.2137 - accuracy: 0.9571\n",
      "Clean test accuracy 95.708632\n",
      "99/99 [==============================] - 0s 3ms/step - loss: 0.0035 - accuracy: 1.0000\n"
     ]
    },
    {
     "name": "stderr",
     "output_type": "stream",
     "text": [
      "\r",
      " 42%|████▏     | 54/128 [01:45<02:22,  1.92s/it]"
     ]
    },
    {
     "name": "stdout",
     "output_type": "stream",
     "text": [
      "Attack success rate 100.000000\n",
      "307/307 [==============================] - 1s 3ms/step - loss: 1.3267 - accuracy: 0.9446\n",
      " ________________________\n",
      "Accuracy drops 0.538141\n",
      "99/99 [==============================] - 0s 3ms/step - loss: 0.2076 - accuracy: 0.9567\n",
      "Clean test accuracy 95.669043\n",
      "99/99 [==============================] - 0s 3ms/step - loss: 0.0035 - accuracy: 1.0000\n"
     ]
    },
    {
     "name": "stderr",
     "output_type": "stream",
     "text": [
      "\r",
      " 43%|████▎     | 55/128 [01:47<02:19,  1.91s/it]"
     ]
    },
    {
     "name": "stdout",
     "output_type": "stream",
     "text": [
      "Attack success rate 100.000000\n",
      "307/307 [==============================] - 1s 3ms/step - loss: 1.3353 - accuracy: 0.9428\n",
      " ________________________\n",
      "Accuracy drops 0.714123\n",
      "99/99 [==============================] - 0s 3ms/step - loss: 0.2417 - accuracy: 0.9496\n",
      "Clean test accuracy 94.964373\n",
      "99/99 [==============================] - 0s 3ms/step - loss: 0.0035 - accuracy: 1.0000\n"
     ]
    },
    {
     "name": "stderr",
     "output_type": "stream",
     "text": [
      "\r",
      " 44%|████▍     | 56/128 [01:49<02:17,  1.91s/it]"
     ]
    },
    {
     "name": "stdout",
     "output_type": "stream",
     "text": [
      "Attack success rate 100.000000\n",
      "307/307 [==============================] - 1s 3ms/step - loss: 1.3548 - accuracy: 0.9418\n",
      " ________________________\n",
      "Accuracy drops 0.816143\n",
      "99/99 [==============================] - 0s 3ms/step - loss: 0.2524 - accuracy: 0.9477\n",
      "Clean test accuracy 94.774348\n",
      "99/99 [==============================] - 0s 3ms/step - loss: 0.0035 - accuracy: 1.0000\n"
     ]
    },
    {
     "name": "stderr",
     "output_type": "stream",
     "text": [
      "\r",
      " 45%|████▍     | 57/128 [01:51<02:15,  1.91s/it]"
     ]
    },
    {
     "name": "stdout",
     "output_type": "stream",
     "text": [
      "Attack success rate 100.000000\n",
      "307/307 [==============================] - 1s 3ms/step - loss: 1.3264 - accuracy: 0.9418\n",
      " ________________________\n",
      "Accuracy drops 0.818688\n",
      "99/99 [==============================] - 0s 3ms/step - loss: 0.2488 - accuracy: 0.9484\n",
      "Clean test accuracy 94.837689\n",
      "99/99 [==============================] - 0s 3ms/step - loss: 0.0035 - accuracy: 1.0000\n"
     ]
    },
    {
     "name": "stderr",
     "output_type": "stream",
     "text": [
      "\r",
      " 45%|████▌     | 58/128 [01:53<02:13,  1.91s/it]"
     ]
    },
    {
     "name": "stdout",
     "output_type": "stream",
     "text": [
      "Attack success rate 100.000000\n",
      "307/307 [==============================] - 1s 3ms/step - loss: 1.3188 - accuracy: 0.9419\n",
      " ________________________\n",
      "Accuracy drops 0.813591\n",
      "99/99 [==============================] - 0s 3ms/step - loss: 0.2517 - accuracy: 0.9489\n",
      "Clean test accuracy 94.893110\n",
      "99/99 [==============================] - 0s 3ms/step - loss: 0.0035 - accuracy: 1.0000\n"
     ]
    },
    {
     "name": "stderr",
     "output_type": "stream",
     "text": [
      "\r",
      " 46%|████▌     | 59/128 [01:55<02:12,  1.92s/it]"
     ]
    },
    {
     "name": "stdout",
     "output_type": "stream",
     "text": [
      "Attack success rate 100.000000\n",
      "307/307 [==============================] - 1s 3ms/step - loss: 1.3436 - accuracy: 0.9384\n",
      " ________________________\n",
      "Accuracy drops 1.160449\n",
      "99/99 [==============================] - 0s 3ms/step - loss: 0.2887 - accuracy: 0.9403\n",
      "Clean test accuracy 94.030088\n",
      "99/99 [==============================] - 0s 3ms/step - loss: 0.0034 - accuracy: 1.0000\n"
     ]
    },
    {
     "name": "stderr",
     "output_type": "stream",
     "text": [
      "\r",
      " 47%|████▋     | 60/128 [01:57<02:09,  1.91s/it]"
     ]
    },
    {
     "name": "stdout",
     "output_type": "stream",
     "text": [
      "Attack success rate 100.000000\n",
      "307/307 [==============================] - 1s 3ms/step - loss: 1.2084 - accuracy: 0.9404\n",
      " ________________________\n",
      "Accuracy drops 0.956416\n",
      "99/99 [==============================] - 0s 3ms/step - loss: 0.2669 - accuracy: 0.9437\n",
      "Clean test accuracy 94.370544\n",
      "99/99 [==============================] - 0s 3ms/step - loss: 0.0034 - accuracy: 1.0000\n"
     ]
    },
    {
     "name": "stderr",
     "output_type": "stream",
     "text": [
      "\r",
      " 48%|████▊     | 61/128 [01:59<02:07,  1.90s/it]"
     ]
    },
    {
     "name": "stdout",
     "output_type": "stream",
     "text": [
      "Attack success rate 100.000000\n",
      "307/307 [==============================] - 1s 3ms/step - loss: 1.1839 - accuracy: 0.9413\n",
      " ________________________\n",
      "Accuracy drops 0.869697\n",
      "99/99 [==============================] - 0s 3ms/step - loss: 0.2579 - accuracy: 0.9453\n",
      "Clean test accuracy 94.528902\n",
      "99/99 [==============================] - 0s 3ms/step - loss: 0.0034 - accuracy: 1.0000\n"
     ]
    },
    {
     "name": "stderr",
     "output_type": "stream",
     "text": [
      "\r",
      " 48%|████▊     | 62/128 [02:00<02:05,  1.90s/it]"
     ]
    },
    {
     "name": "stdout",
     "output_type": "stream",
     "text": [
      "Attack success rate 100.000000\n",
      "307/307 [==============================] - 1s 3ms/step - loss: 1.1781 - accuracy: 0.9406\n",
      " ________________________\n",
      "Accuracy drops 0.938559\n",
      "99/99 [==============================] - 0s 3ms/step - loss: 0.2653 - accuracy: 0.9432\n",
      "Clean test accuracy 94.315124\n",
      "99/99 [==============================] - 0s 3ms/step - loss: 0.0034 - accuracy: 1.0000\n"
     ]
    },
    {
     "name": "stderr",
     "output_type": "stream",
     "text": [
      "\r",
      " 49%|████▉     | 63/128 [02:02<02:03,  1.90s/it]"
     ]
    },
    {
     "name": "stdout",
     "output_type": "stream",
     "text": [
      "Attack success rate 100.000000\n",
      "307/307 [==============================] - 1s 3ms/step - loss: 1.1570 - accuracy: 0.9396\n",
      " ________________________\n",
      "Accuracy drops 1.043129\n",
      "99/99 [==============================] - 0s 3ms/step - loss: 0.2687 - accuracy: 0.9414\n",
      "Clean test accuracy 94.140935\n",
      "99/99 [==============================] - 0s 3ms/step - loss: 0.0034 - accuracy: 1.0000\n"
     ]
    },
    {
     "name": "stderr",
     "output_type": "stream",
     "text": [
      "\r",
      " 50%|█████     | 64/128 [02:04<02:01,  1.90s/it]"
     ]
    },
    {
     "name": "stdout",
     "output_type": "stream",
     "text": [
      "Attack success rate 100.000000\n",
      "307/307 [==============================] - 1s 3ms/step - loss: 1.1045 - accuracy: 0.9390\n",
      " ________________________\n",
      "Accuracy drops 1.094139\n",
      "99/99 [==============================] - 0s 3ms/step - loss: 0.2747 - accuracy: 0.9403\n",
      "Clean test accuracy 94.030088\n",
      "99/99 [==============================] - 0s 3ms/step - loss: 0.0035 - accuracy: 1.0000\n"
     ]
    },
    {
     "name": "stderr",
     "output_type": "stream",
     "text": [
      "\r",
      " 51%|█████     | 65/128 [02:06<01:59,  1.90s/it]"
     ]
    },
    {
     "name": "stdout",
     "output_type": "stream",
     "text": [
      "Attack success rate 100.000000\n",
      "307/307 [==============================] - 1s 3ms/step - loss: 1.0827 - accuracy: 0.9373\n",
      " ________________________\n",
      "Accuracy drops 1.272666\n",
      "99/99 [==============================] - 0s 3ms/step - loss: 0.2846 - accuracy: 0.9375\n",
      "Clean test accuracy 93.745053\n",
      "99/99 [==============================] - 0s 3ms/step - loss: 0.0037 - accuracy: 1.0000\n"
     ]
    },
    {
     "name": "stderr",
     "output_type": "stream",
     "text": [
      "\r",
      " 52%|█████▏    | 66/128 [02:08<01:57,  1.90s/it]"
     ]
    },
    {
     "name": "stdout",
     "output_type": "stream",
     "text": [
      "Attack success rate 100.000000\n",
      "307/307 [==============================] - 1s 3ms/step - loss: 1.0551 - accuracy: 0.9369\n",
      " ________________________\n",
      "Accuracy drops 1.308376\n",
      "99/99 [==============================] - 0s 3ms/step - loss: 0.2908 - accuracy: 0.9358\n",
      "Clean test accuracy 93.578780\n",
      "99/99 [==============================] - 0s 3ms/step - loss: 0.0038 - accuracy: 1.0000\n"
     ]
    },
    {
     "name": "stderr",
     "output_type": "stream",
     "text": [
      "\r",
      " 52%|█████▏    | 67/128 [02:10<01:55,  1.90s/it]"
     ]
    },
    {
     "name": "stdout",
     "output_type": "stream",
     "text": [
      "Attack success rate 100.000000\n",
      "307/307 [==============================] - 1s 3ms/step - loss: 1.0684 - accuracy: 0.9329\n",
      " ________________________\n",
      "Accuracy drops 1.708794\n",
      "99/99 [==============================] - 0s 3ms/step - loss: 0.3197 - accuracy: 0.9283\n",
      "Clean test accuracy 92.834520\n",
      "99/99 [==============================] - 0s 3ms/step - loss: 0.0038 - accuracy: 1.0000\n"
     ]
    },
    {
     "name": "stderr",
     "output_type": "stream",
     "text": [
      "\r",
      " 53%|█████▎    | 68/128 [02:12<01:53,  1.90s/it]"
     ]
    },
    {
     "name": "stdout",
     "output_type": "stream",
     "text": [
      "Attack success rate 100.000000\n",
      "307/307 [==============================] - 1s 3ms/step - loss: 1.0984 - accuracy: 0.9228\n",
      " ________________________\n",
      "Accuracy drops 2.718765\n",
      "The accuracy drops at least 2%, saved the model\n",
      "99/99 [==============================] - 0s 3ms/step - loss: 0.3815 - accuracy: 0.9177\n",
      "Clean test accuracy 91.773558\n",
      "99/99 [==============================] - 0s 3ms/step - loss: 0.0037 - accuracy: 1.0000\n"
     ]
    },
    {
     "name": "stderr",
     "output_type": "stream",
     "text": [
      "\r",
      " 54%|█████▍    | 69/128 [02:14<01:52,  1.91s/it]"
     ]
    },
    {
     "name": "stdout",
     "output_type": "stream",
     "text": [
      "Attack success rate 100.000000\n",
      "307/307 [==============================] - 1s 3ms/step - loss: 1.0267 - accuracy: 0.9244\n",
      " ________________________\n",
      "Accuracy drops 2.563190\n",
      "99/99 [==============================] - 0s 3ms/step - loss: 0.3748 - accuracy: 0.9189\n",
      "Clean test accuracy 91.892320\n",
      "99/99 [==============================] - 0s 3ms/step - loss: 0.0042 - accuracy: 1.0000\n"
     ]
    },
    {
     "name": "stderr",
     "output_type": "stream",
     "text": [
      "\r",
      " 55%|█████▍    | 70/128 [02:16<01:50,  1.91s/it]"
     ]
    },
    {
     "name": "stdout",
     "output_type": "stream",
     "text": [
      "Attack success rate 100.000000\n",
      "307/307 [==============================] - 1s 3ms/step - loss: 1.0223 - accuracy: 0.9215\n",
      " ________________________\n",
      "Accuracy drops 2.848834\n",
      "99/99 [==============================] - 0s 3ms/step - loss: 0.3907 - accuracy: 0.9150\n",
      "Clean test accuracy 91.504353\n",
      "99/99 [==============================] - 0s 3ms/step - loss: 0.0050 - accuracy: 1.0000\n"
     ]
    },
    {
     "name": "stderr",
     "output_type": "stream",
     "text": [
      "\r",
      " 55%|█████▌    | 71/128 [02:18<01:49,  1.92s/it]"
     ]
    },
    {
     "name": "stdout",
     "output_type": "stream",
     "text": [
      "Attack success rate 100.000000\n",
      "307/307 [==============================] - 1s 3ms/step - loss: 1.0335 - accuracy: 0.9170\n",
      " ________________________\n",
      "Accuracy drops 3.300261\n",
      "99/99 [==============================] - 0s 3ms/step - loss: 0.4121 - accuracy: 0.9107\n",
      "Clean test accuracy 91.068882\n",
      "99/99 [==============================] - 0s 3ms/step - loss: 0.0050 - accuracy: 1.0000\n"
     ]
    },
    {
     "name": "stderr",
     "output_type": "stream",
     "text": [
      "\r",
      " 56%|█████▋    | 72/128 [02:20<01:47,  1.92s/it]"
     ]
    },
    {
     "name": "stdout",
     "output_type": "stream",
     "text": [
      "Attack success rate 100.000000\n",
      "307/307 [==============================] - 1s 3ms/step - loss: 1.0252 - accuracy: 0.9160\n",
      " ________________________\n",
      "Accuracy drops 3.402281\n",
      "99/99 [==============================] - 0s 3ms/step - loss: 0.4096 - accuracy: 0.9111\n",
      "Clean test accuracy 91.108471\n",
      "99/99 [==============================] - 0s 3ms/step - loss: 0.0050 - accuracy: 1.0000\n"
     ]
    },
    {
     "name": "stderr",
     "output_type": "stream",
     "text": [
      "\r",
      " 57%|█████▋    | 73/128 [02:21<01:45,  1.91s/it]"
     ]
    },
    {
     "name": "stdout",
     "output_type": "stream",
     "text": [
      "Attack success rate 100.000000\n",
      "307/307 [==============================] - 1s 3ms/step - loss: 1.0073 - accuracy: 0.9171\n",
      " ________________________\n",
      "Accuracy drops 3.287512\n",
      "99/99 [==============================] - 0s 3ms/step - loss: 0.3909 - accuracy: 0.9139\n",
      "Clean test accuracy 91.385591\n",
      "99/99 [==============================] - 0s 3ms/step - loss: 0.0046 - accuracy: 1.0000\n"
     ]
    },
    {
     "name": "stderr",
     "output_type": "stream",
     "text": [
      "\r",
      " 58%|█████▊    | 74/128 [02:23<01:43,  1.92s/it]"
     ]
    },
    {
     "name": "stdout",
     "output_type": "stream",
     "text": [
      "Attack success rate 100.000000\n",
      "307/307 [==============================] - 1s 3ms/step - loss: 0.9974 - accuracy: 0.9152\n",
      " ________________________\n",
      "Accuracy drops 3.473693\n",
      "99/99 [==============================] - 0s 3ms/step - loss: 0.4028 - accuracy: 0.9102\n",
      "Clean test accuracy 91.021377\n",
      "99/99 [==============================] - 0s 3ms/step - loss: 0.0051 - accuracy: 1.0000\n"
     ]
    },
    {
     "name": "stderr",
     "output_type": "stream",
     "text": [
      "\r",
      " 59%|█████▊    | 75/128 [02:25<01:42,  1.93s/it]"
     ]
    },
    {
     "name": "stdout",
     "output_type": "stream",
     "text": [
      "Attack success rate 100.000000\n",
      "307/307 [==============================] - 1s 3ms/step - loss: 0.9463 - accuracy: 0.9134\n",
      " ________________________\n",
      "Accuracy drops 3.654772\n",
      "99/99 [==============================] - 0s 3ms/step - loss: 0.4088 - accuracy: 0.9095\n",
      "Clean test accuracy 90.950119\n",
      "99/99 [==============================] - 0s 3ms/step - loss: 0.0055 - accuracy: 1.0000\n"
     ]
    },
    {
     "name": "stderr",
     "output_type": "stream",
     "text": [
      "\r",
      " 59%|█████▉    | 76/128 [02:27<01:39,  1.92s/it]"
     ]
    },
    {
     "name": "stdout",
     "output_type": "stream",
     "text": [
      "Attack success rate 100.000000\n",
      "307/307 [==============================] - 1s 3ms/step - loss: 0.8812 - accuracy: 0.9168\n",
      " ________________________\n",
      "Accuracy drops 3.323215\n",
      "99/99 [==============================] - 0s 3ms/step - loss: 0.3846 - accuracy: 0.9125\n",
      "Clean test accuracy 91.250992\n",
      "99/99 [==============================] - 0s 3ms/step - loss: 0.0099 - accuracy: 1.0000\n"
     ]
    },
    {
     "name": "stderr",
     "output_type": "stream",
     "text": [
      "\r",
      " 60%|██████    | 77/128 [02:29<01:37,  1.92s/it]"
     ]
    },
    {
     "name": "stdout",
     "output_type": "stream",
     "text": [
      "Attack success rate 100.000000\n",
      "307/307 [==============================] - 1s 3ms/step - loss: 0.9039 - accuracy: 0.9098\n",
      " ________________________\n",
      "Accuracy drops 4.016936\n",
      "99/99 [==============================] - 0s 3ms/step - loss: 0.4243 - accuracy: 0.9044\n",
      "Clean test accuracy 90.443391\n",
      "99/99 [==============================] - 0s 3ms/step - loss: 0.0105 - accuracy: 1.0000\n"
     ]
    },
    {
     "name": "stderr",
     "output_type": "stream",
     "text": [
      "\r",
      " 61%|██████    | 78/128 [02:31<01:35,  1.91s/it]"
     ]
    },
    {
     "name": "stdout",
     "output_type": "stream",
     "text": [
      "Attack success rate 100.000000\n",
      "307/307 [==============================] - 1s 3ms/step - loss: 0.9346 - accuracy: 0.8988\n",
      " ________________________\n",
      "Accuracy drops 5.113626\n",
      "99/99 [==============================] - 0s 3ms/step - loss: 0.4930 - accuracy: 0.8949\n",
      "Clean test accuracy 89.485353\n",
      "99/99 [==============================] - 0s 3ms/step - loss: 0.0473 - accuracy: 1.0000\n"
     ]
    },
    {
     "name": "stderr",
     "output_type": "stream",
     "text": [
      "\r",
      " 62%|██████▏   | 79/128 [02:33<01:33,  1.91s/it]"
     ]
    },
    {
     "name": "stdout",
     "output_type": "stream",
     "text": [
      "Attack success rate 100.000000\n",
      "307/307 [==============================] - 1s 3ms/step - loss: 0.9430 - accuracy: 0.8954\n",
      " ________________________\n",
      "Accuracy drops 5.463034\n",
      "99/99 [==============================] - 0s 3ms/step - loss: 0.5066 - accuracy: 0.8910\n",
      "Clean test accuracy 89.097387\n",
      "99/99 [==============================] - 0s 3ms/step - loss: 0.0543 - accuracy: 1.0000\n"
     ]
    },
    {
     "name": "stderr",
     "output_type": "stream",
     "text": [
      "\r",
      " 62%|██████▎   | 80/128 [02:35<01:31,  1.91s/it]"
     ]
    },
    {
     "name": "stdout",
     "output_type": "stream",
     "text": [
      "Attack success rate 100.000000\n",
      "307/307 [==============================] - 1s 3ms/step - loss: 0.8974 - accuracy: 0.9005\n",
      " ________________________\n",
      "Accuracy drops 4.952943\n",
      "99/99 [==============================] - 0s 3ms/step - loss: 0.4716 - accuracy: 0.8956\n",
      "Clean test accuracy 89.556611\n",
      "99/99 [==============================] - 0s 3ms/step - loss: 0.0621 - accuracy: 1.0000\n"
     ]
    },
    {
     "name": "stderr",
     "output_type": "stream",
     "text": [
      "\r",
      " 63%|██████▎   | 81/128 [02:37<01:29,  1.91s/it]"
     ]
    },
    {
     "name": "stdout",
     "output_type": "stream",
     "text": [
      "Attack success rate 100.000000\n",
      "307/307 [==============================] - 1s 3ms/step - loss: 0.9092 - accuracy: 0.8987\n",
      " ________________________\n",
      "Accuracy drops 5.126375\n",
      "99/99 [==============================] - 0s 3ms/step - loss: 0.4759 - accuracy: 0.8928\n",
      "Clean test accuracy 89.279491\n",
      "99/99 [==============================] - 0s 3ms/step - loss: 0.1022 - accuracy: 0.9997\n"
     ]
    },
    {
     "name": "stderr",
     "output_type": "stream",
     "text": [
      "\r",
      " 64%|██████▍   | 82/128 [02:39<01:28,  1.93s/it]"
     ]
    },
    {
     "name": "stdout",
     "output_type": "stream",
     "text": [
      "Attack success rate 99.968332\n",
      "307/307 [==============================] - 1s 3ms/step - loss: 0.9378 - accuracy: 0.8950\n",
      " ________________________\n",
      "Accuracy drops 5.496186\n",
      "99/99 [==============================] - 0s 3ms/step - loss: 0.4876 - accuracy: 0.8911\n",
      "Clean test accuracy 89.105302\n",
      "99/99 [==============================] - 0s 3ms/step - loss: 0.0872 - accuracy: 0.9998\n"
     ]
    },
    {
     "name": "stderr",
     "output_type": "stream",
     "text": [
      "\r",
      " 65%|██████▍   | 83/128 [02:41<01:27,  1.94s/it]"
     ]
    },
    {
     "name": "stdout",
     "output_type": "stream",
     "text": [
      "Attack success rate 99.984163\n",
      "307/307 [==============================] - 1s 3ms/step - loss: 0.9700 - accuracy: 0.8840\n",
      " ________________________\n",
      "Accuracy drops 6.597978\n",
      "99/99 [==============================] - 0s 3ms/step - loss: 0.5425 - accuracy: 0.8805\n",
      "Clean test accuracy 88.052255\n",
      "99/99 [==============================] - 0s 3ms/step - loss: 0.1163 - accuracy: 0.9988\n"
     ]
    },
    {
     "name": "stderr",
     "output_type": "stream",
     "text": [
      "\r",
      " 66%|██████▌   | 84/128 [02:43<01:36,  2.19s/it]"
     ]
    },
    {
     "name": "stdout",
     "output_type": "stream",
     "text": [
      "Attack success rate 99.881238\n",
      "307/307 [==============================] - 1s 3ms/step - loss: 1.0398 - accuracy: 0.8712\n",
      " ________________________\n",
      "Accuracy drops 7.880843\n",
      "99/99 [==============================] - 0s 3ms/step - loss: 0.6057 - accuracy: 0.8687\n",
      "Clean test accuracy 86.872524\n",
      "99/99 [==============================] - 0s 3ms/step - loss: 0.0677 - accuracy: 1.0000\n"
     ]
    },
    {
     "name": "stderr",
     "output_type": "stream",
     "text": [
      "\r",
      " 66%|██████▋   | 85/128 [02:45<01:30,  2.11s/it]"
     ]
    },
    {
     "name": "stdout",
     "output_type": "stream",
     "text": [
      "Attack success rate 100.000000\n",
      "307/307 [==============================] - 1s 3ms/step - loss: 0.9766 - accuracy: 0.8728\n",
      " ________________________\n",
      "Accuracy drops 7.717615\n",
      "99/99 [==============================] - 0s 3ms/step - loss: 0.5882 - accuracy: 0.8698\n",
      "Clean test accuracy 86.983371\n",
      "99/99 [==============================] - 0s 4ms/step - loss: 0.1529 - accuracy: 0.9979\n"
     ]
    },
    {
     "name": "stderr",
     "output_type": "stream",
     "text": [
      "\r",
      " 67%|██████▋   | 86/128 [02:47<01:27,  2.08s/it]"
     ]
    },
    {
     "name": "stdout",
     "output_type": "stream",
     "text": [
      "Attack success rate 99.794143\n",
      "307/307 [==============================] - 1s 4ms/step - loss: 0.9860 - accuracy: 0.8642\n",
      " ________________________\n",
      "Accuracy drops 8.574563\n",
      "99/99 [==============================] - 0s 4ms/step - loss: 0.6220 - accuracy: 0.8633\n",
      "Clean test accuracy 86.334127\n",
      "99/99 [==============================] - 0s 3ms/step - loss: 0.2030 - accuracy: 0.9834\n"
     ]
    },
    {
     "name": "stderr",
     "output_type": "stream",
     "text": [
      "\r",
      " 68%|██████▊   | 87/128 [02:50<01:25,  2.10s/it]"
     ]
    },
    {
     "name": "stdout",
     "output_type": "stream",
     "text": [
      "Attack success rate 98.337293\n",
      "307/307 [==============================] - 1s 3ms/step - loss: 0.9642 - accuracy: 0.8611\n",
      " ________________________\n",
      "Accuracy drops 8.890820\n",
      "99/99 [==============================] - 0s 3ms/step - loss: 0.6380 - accuracy: 0.8593\n",
      "Clean test accuracy 85.930324\n",
      "99/99 [==============================] - 0s 3ms/step - loss: 0.2827 - accuracy: 0.9405\n"
     ]
    },
    {
     "name": "stderr",
     "output_type": "stream",
     "text": [
      "\r",
      " 69%|██████▉   | 88/128 [02:51<01:21,  2.05s/it]"
     ]
    },
    {
     "name": "stdout",
     "output_type": "stream",
     "text": [
      "Attack success rate 94.053841\n",
      "307/307 [==============================] - 1s 3ms/step - loss: 0.9900 - accuracy: 0.8536\n",
      " ________________________\n",
      "Accuracy drops 9.643197\n",
      "99/99 [==============================] - 0s 3ms/step - loss: 0.6723 - accuracy: 0.8529\n",
      "Clean test accuracy 85.288996\n",
      "99/99 [==============================] - 0s 3ms/step - loss: 0.0649 - accuracy: 1.0000\n"
     ]
    },
    {
     "name": "stderr",
     "output_type": "stream",
     "text": [
      "\r",
      " 70%|██████▉   | 89/128 [02:53<01:18,  2.00s/it]"
     ]
    },
    {
     "name": "stdout",
     "output_type": "stream",
     "text": [
      "Attack success rate 100.000000\n",
      "307/307 [==============================] - 1s 3ms/step - loss: 1.0603 - accuracy: 0.8416\n",
      " ________________________\n",
      "Accuracy drops 10.834247\n",
      "The accuracy drops at least 10%, saved the model\n",
      "99/99 [==============================] - 0s 3ms/step - loss: 0.7375 - accuracy: 0.8397\n",
      "Clean test accuracy 83.974665\n",
      "99/99 [==============================] - 0s 3ms/step - loss: 0.0502 - accuracy: 1.0000\n"
     ]
    },
    {
     "name": "stderr",
     "output_type": "stream",
     "text": [
      "\r",
      " 70%|███████   | 90/128 [02:55<01:15,  1.98s/it]"
     ]
    },
    {
     "name": "stdout",
     "output_type": "stream",
     "text": [
      "Attack success rate 100.000000\n",
      "307/307 [==============================] - 1s 3ms/step - loss: 1.0476 - accuracy: 0.8337\n",
      " ________________________\n",
      "Accuracy drops 11.624885\n",
      "99/99 [==============================] - 0s 4ms/step - loss: 0.7550 - accuracy: 0.8322\n",
      "Clean test accuracy 83.222485\n",
      "99/99 [==============================] - 0s 3ms/step - loss: 0.0816 - accuracy: 1.0000\n"
     ]
    },
    {
     "name": "stderr",
     "output_type": "stream",
     "text": [
      "\r",
      " 71%|███████   | 91/128 [02:57<01:13,  1.99s/it]"
     ]
    },
    {
     "name": "stdout",
     "output_type": "stream",
     "text": [
      "Attack success rate 100.000000\n",
      "307/307 [==============================] - 1s 4ms/step - loss: 1.1452 - accuracy: 0.8084\n",
      " ________________________\n",
      "Accuracy drops 14.157462\n",
      "99/99 [==============================] - 0s 4ms/step - loss: 0.8789 - accuracy: 0.8050\n",
      "Clean test accuracy 80.498815\n",
      "99/99 [==============================] - 0s 4ms/step - loss: 0.1760 - accuracy: 0.9996\n"
     ]
    },
    {
     "name": "stderr",
     "output_type": "stream",
     "text": [
      "\r",
      " 72%|███████▏  | 92/128 [02:59<01:12,  2.02s/it]"
     ]
    },
    {
     "name": "stdout",
     "output_type": "stream",
     "text": [
      "Attack success rate 99.960411\n",
      "307/307 [==============================] - 1s 3ms/step - loss: 1.1509 - accuracy: 0.8060\n",
      " ________________________\n",
      "Accuracy drops 14.399755\n",
      "99/99 [==============================] - 0s 3ms/step - loss: 0.8698 - accuracy: 0.8050\n",
      "Clean test accuracy 80.498815\n",
      "99/99 [==============================] - 0s 3ms/step - loss: 0.1504 - accuracy: 1.0000\n"
     ]
    },
    {
     "name": "stderr",
     "output_type": "stream",
     "text": [
      "\r",
      " 73%|███████▎  | 93/128 [03:01<01:09,  1.98s/it]"
     ]
    },
    {
     "name": "stdout",
     "output_type": "stream",
     "text": [
      "Attack success rate 100.000000\n",
      "307/307 [==============================] - 1s 3ms/step - loss: 1.1865 - accuracy: 0.7952\n",
      " ________________________\n",
      "Accuracy drops 15.478587\n",
      "99/99 [==============================] - 0s 3ms/step - loss: 0.9132 - accuracy: 0.7914\n",
      "Clean test accuracy 79.144895\n",
      "99/99 [==============================] - 0s 3ms/step - loss: 0.1266 - accuracy: 1.0000\n"
     ]
    },
    {
     "name": "stderr",
     "output_type": "stream",
     "text": [
      "\r",
      " 73%|███████▎  | 94/128 [03:03<01:06,  1.97s/it]"
     ]
    },
    {
     "name": "stdout",
     "output_type": "stream",
     "text": [
      "Attack success rate 100.000000\n",
      "307/307 [==============================] - 1s 3ms/step - loss: 1.2876 - accuracy: 0.7761\n",
      " ________________________\n",
      "Accuracy drops 17.386317\n",
      "99/99 [==============================] - 0s 4ms/step - loss: 0.9976 - accuracy: 0.7709\n",
      "Clean test accuracy 77.086300\n",
      "99/99 [==============================] - 0s 4ms/step - loss: 0.0868 - accuracy: 1.0000\n"
     ]
    },
    {
     "name": "stderr",
     "output_type": "stream",
     "text": [
      "\r",
      " 74%|███████▍  | 95/128 [03:05<01:05,  1.98s/it]"
     ]
    },
    {
     "name": "stdout",
     "output_type": "stream",
     "text": [
      "Attack success rate 100.000000\n",
      "307/307 [==============================] - 1s 3ms/step - loss: 1.2572 - accuracy: 0.7763\n",
      " ________________________\n",
      "Accuracy drops 17.373562\n",
      "99/99 [==============================] - 0s 3ms/step - loss: 0.9829 - accuracy: 0.7735\n",
      "Clean test accuracy 77.347583\n",
      "99/99 [==============================] - 0s 4ms/step - loss: 0.1449 - accuracy: 1.0000\n"
     ]
    },
    {
     "name": "stderr",
     "output_type": "stream",
     "text": [
      "\r",
      " 75%|███████▌  | 96/128 [03:07<01:03,  1.97s/it]"
     ]
    },
    {
     "name": "stdout",
     "output_type": "stream",
     "text": [
      "Attack success rate 100.000000\n",
      "307/307 [==============================] - 1s 3ms/step - loss: 1.2981 - accuracy: 0.7618\n",
      " ________________________\n",
      "Accuracy drops 18.822211\n",
      "99/99 [==============================] - 0s 3ms/step - loss: 1.0575 - accuracy: 0.7587\n",
      "Clean test accuracy 75.874901\n",
      "99/99 [==============================] - 0s 3ms/step - loss: 0.4401 - accuracy: 0.7898\n"
     ]
    },
    {
     "name": "stderr",
     "output_type": "stream",
     "text": [
      "\r",
      " 76%|███████▌  | 97/128 [03:09<01:00,  1.95s/it]"
     ]
    },
    {
     "name": "stdout",
     "output_type": "stream",
     "text": [
      "Attack success rate 78.978622\n",
      "307/307 [==============================] - 1s 4ms/step - loss: 1.3145 - accuracy: 0.7565\n",
      " ________________________\n",
      "Accuracy drops 19.352698\n",
      "99/99 [==============================] - 0s 4ms/step - loss: 1.1013 - accuracy: 0.7504\n",
      "Clean test accuracy 75.035632\n",
      "99/99 [==============================] - 0s 4ms/step - loss: 0.8007 - accuracy: 0.5705\n"
     ]
    },
    {
     "name": "stderr",
     "output_type": "stream",
     "text": [
      "\r",
      " 77%|███████▋  | 98/128 [03:11<01:00,  2.01s/it]"
     ]
    },
    {
     "name": "stdout",
     "output_type": "stream",
     "text": [
      "Attack success rate 57.046711\n",
      "307/307 [==============================] - 1s 3ms/step - loss: 1.4193 - accuracy: 0.7364\n",
      " ________________________\n",
      "Accuracy drops 21.362442\n",
      "The accuracy drops at least 20%, saved the model\n",
      "99/99 [==============================] - 0s 3ms/step - loss: 1.2116 - accuracy: 0.7287\n",
      "Clean test accuracy 72.866189\n",
      "99/99 [==============================] - 0s 3ms/step - loss: 0.7629 - accuracy: 0.5838\n"
     ]
    },
    {
     "name": "stderr",
     "output_type": "stream",
     "text": [
      "\r",
      " 77%|███████▋  | 99/128 [03:13<00:58,  2.01s/it]"
     ]
    },
    {
     "name": "stdout",
     "output_type": "stream",
     "text": [
      "Attack success rate 58.384800\n",
      "307/307 [==============================] - 1s 3ms/step - loss: 1.5446 - accuracy: 0.7121\n",
      " ________________________\n",
      "Accuracy drops 23.793006\n",
      "99/99 [==============================] - 0s 3ms/step - loss: 1.3394 - accuracy: 0.7022\n",
      "Clean test accuracy 70.221692\n",
      "99/99 [==============================] - 0s 3ms/step - loss: 0.6780 - accuracy: 0.6530\n"
     ]
    },
    {
     "name": "stderr",
     "output_type": "stream",
     "text": [
      "\r",
      " 78%|███████▊  | 100/128 [03:15<00:55,  1.99s/it]"
     ]
    },
    {
     "name": "stdout",
     "output_type": "stream",
     "text": [
      "Attack success rate 65.296912\n",
      "307/307 [==============================] - 1s 3ms/step - loss: 1.6160 - accuracy: 0.6937\n",
      " ________________________\n",
      "Accuracy drops 25.624222\n",
      "99/99 [==============================] - 0s 3ms/step - loss: 1.4310 - accuracy: 0.6830\n",
      "Clean test accuracy 68.297702\n",
      "99/99 [==============================] - 0s 4ms/step - loss: 1.3749 - accuracy: 0.2527\n"
     ]
    },
    {
     "name": "stderr",
     "output_type": "stream",
     "text": [
      "\r",
      " 79%|███████▉  | 101/128 [03:17<00:53,  1.97s/it]"
     ]
    },
    {
     "name": "stdout",
     "output_type": "stream",
     "text": [
      "Attack success rate 25.273159\n",
      "307/307 [==============================] - 1s 4ms/step - loss: 1.7732 - accuracy: 0.6595\n",
      " ________________________\n",
      "Accuracy drops 29.052001\n",
      "99/99 [==============================] - 0s 4ms/step - loss: 1.6083 - accuracy: 0.6463\n",
      "Clean test accuracy 64.631832\n",
      "99/99 [==============================] - 0s 4ms/step - loss: 1.3094 - accuracy: 0.2696\n"
     ]
    },
    {
     "name": "stderr",
     "output_type": "stream",
     "text": [
      "\r",
      " 80%|███████▉  | 102/128 [03:19<00:51,  2.00s/it]"
     ]
    },
    {
     "name": "stdout",
     "output_type": "stream",
     "text": [
      "Attack success rate 26.959619\n",
      "307/307 [==============================] - 1s 3ms/step - loss: 1.9133 - accuracy: 0.6379\n",
      " ________________________\n",
      "Accuracy drops 31.212223\n",
      "The accuracy drops at least 30%, saved the model\n",
      "99/99 [==============================] - 0s 3ms/step - loss: 1.7663 - accuracy: 0.6271\n",
      "Clean test accuracy 62.707841\n",
      "99/99 [==============================] - 0s 3ms/step - loss: 1.3230 - accuracy: 0.2605\n"
     ]
    },
    {
     "name": "stderr",
     "output_type": "stream",
     "text": [
      "\r",
      " 80%|████████  | 103/128 [03:21<00:49,  1.99s/it]"
     ]
    },
    {
     "name": "stdout",
     "output_type": "stream",
     "text": [
      "Attack success rate 26.049089\n",
      "307/307 [==============================] - 1s 4ms/step - loss: 2.1210 - accuracy: 0.6099\n",
      " ________________________\n",
      "Accuracy drops 34.010047\n",
      "99/99 [==============================] - 0s 3ms/step - loss: 1.9679 - accuracy: 0.6017\n",
      "Clean test accuracy 60.166270\n",
      "99/99 [==============================] - 0s 3ms/step - loss: 1.3843 - accuracy: 0.2375\n"
     ]
    },
    {
     "name": "stderr",
     "output_type": "stream",
     "text": [
      "\r",
      " 81%|████████▏ | 104/128 [03:23<00:47,  1.99s/it]"
     ]
    },
    {
     "name": "stdout",
     "output_type": "stream",
     "text": [
      "Attack success rate 23.752970\n",
      "307/307 [==============================] - 1s 3ms/step - loss: 2.3344 - accuracy: 0.5741\n",
      " ________________________\n",
      "Accuracy drops 37.585759\n",
      "99/99 [==============================] - 0s 3ms/step - loss: 2.1832 - accuracy: 0.5648\n",
      "Clean test accuracy 56.476641\n",
      "99/99 [==============================] - 0s 3ms/step - loss: 1.7243 - accuracy: 0.1089\n"
     ]
    },
    {
     "name": "stderr",
     "output_type": "stream",
     "text": [
      "\r",
      " 82%|████████▏ | 105/128 [03:25<00:45,  1.97s/it]"
     ]
    },
    {
     "name": "stdout",
     "output_type": "stream",
     "text": [
      "Attack success rate 10.886777\n",
      "307/307 [==============================] - 1s 3ms/step - loss: 2.6327 - accuracy: 0.5429\n",
      " ________________________\n",
      "Accuracy drops 40.710044\n",
      "99/99 [==============================] - 0s 3ms/step - loss: 2.4906 - accuracy: 0.5268\n",
      "Clean test accuracy 52.676165\n",
      "99/99 [==============================] - 0s 3ms/step - loss: 2.2717 - accuracy: 0.0268\n",
      "Attack success rate 2.676168\n"
     ]
    },
    {
     "name": "stderr",
     "output_type": "stream",
     "text": [
      "\r",
      " 83%|████████▎ | 106/128 [03:27<00:43,  1.96s/it]"
     ]
    },
    {
     "name": "stdout",
     "output_type": "stream",
     "text": [
      "307/307 [==============================] - 1s 3ms/step - loss: 3.0753 - accuracy: 0.5027\n",
      " ________________________\n",
      "Accuracy drops 44.729525\n",
      "99/99 [==============================] - 0s 3ms/step - loss: 2.9385 - accuracy: 0.4784\n",
      "Clean test accuracy 47.838479\n",
      "99/99 [==============================] - 0s 3ms/step - loss: 3.2290 - accuracy: 0.0000e+00\n"
     ]
    },
    {
     "name": "stderr",
     "output_type": "stream",
     "text": [
      "\r",
      " 84%|████████▎ | 107/128 [03:29<00:40,  1.95s/it]"
     ]
    },
    {
     "name": "stdout",
     "output_type": "stream",
     "text": [
      "Attack success rate 0.000000\n",
      "307/307 [==============================] - 1s 3ms/step - loss: 3.3648 - accuracy: 0.4747\n",
      " ________________________\n",
      "Accuracy drops 47.529906\n",
      "99/99 [==============================] - 0s 3ms/step - loss: 3.2308 - accuracy: 0.4500\n",
      "Clean test accuracy 45.003960\n",
      "99/99 [==============================] - 0s 3ms/step - loss: 3.5510 - accuracy: 0.0000e+00\n"
     ]
    },
    {
     "name": "stderr",
     "output_type": "stream",
     "text": [
      "\r",
      " 84%|████████▍ | 108/128 [03:31<00:39,  1.95s/it]"
     ]
    },
    {
     "name": "stdout",
     "output_type": "stream",
     "text": [
      "Attack success rate 0.000000\n",
      "307/307 [==============================] - 1s 3ms/step - loss: 3.4513 - accuracy: 0.4611\n",
      " ________________________\n",
      "Accuracy drops 48.884186\n",
      "99/99 [==============================] - 0s 3ms/step - loss: 3.2973 - accuracy: 0.4346\n",
      "Clean test accuracy 43.460014\n",
      "99/99 [==============================] - 0s 3ms/step - loss: 3.4343 - accuracy: 0.0000e+00\n"
     ]
    },
    {
     "name": "stderr",
     "output_type": "stream",
     "text": [
      "\r",
      " 85%|████████▌ | 109/128 [03:33<00:37,  1.95s/it]"
     ]
    },
    {
     "name": "stdout",
     "output_type": "stream",
     "text": [
      "Attack success rate 0.000000\n",
      "307/307 [==============================] - 1s 3ms/step - loss: 3.5620 - accuracy: 0.4323\n",
      " ________________________\n",
      "Accuracy drops 51.763627\n",
      "99/99 [==============================] - 0s 3ms/step - loss: 3.4231 - accuracy: 0.3991\n",
      "Clean test accuracy 39.912906\n",
      "99/99 [==============================] - 0s 3ms/step - loss: 3.9067 - accuracy: 0.0000e+00\n"
     ]
    },
    {
     "name": "stderr",
     "output_type": "stream",
     "text": [
      "\r",
      " 86%|████████▌ | 110/128 [03:35<00:34,  1.94s/it]"
     ]
    },
    {
     "name": "stdout",
     "output_type": "stream",
     "text": [
      "Attack success rate 0.000000\n",
      "307/307 [==============================] - 1s 3ms/step - loss: 4.0017 - accuracy: 0.3849\n",
      " ________________________\n",
      "Accuracy drops 56.504884\n",
      "99/99 [==============================] - 0s 3ms/step - loss: 3.8697 - accuracy: 0.3584\n",
      "Clean test accuracy 35.835314\n",
      "99/99 [==============================] - 0s 3ms/step - loss: 4.6471 - accuracy: 0.0000e+00\n"
     ]
    },
    {
     "name": "stderr",
     "output_type": "stream",
     "text": [
      "\r",
      " 87%|████████▋ | 111/128 [03:37<00:32,  1.94s/it]"
     ]
    },
    {
     "name": "stdout",
     "output_type": "stream",
     "text": [
      "Attack success rate 0.000000\n",
      "307/307 [==============================] - 1s 3ms/step - loss: 4.3501 - accuracy: 0.3309\n",
      " ________________________\n",
      "Accuracy drops 61.906707\n",
      "99/99 [==============================] - 0s 3ms/step - loss: 4.2758 - accuracy: 0.3061\n",
      "Clean test accuracy 30.609658\n",
      "99/99 [==============================] - 0s 3ms/step - loss: 5.2624 - accuracy: 0.0000e+00\n"
     ]
    },
    {
     "name": "stderr",
     "output_type": "stream",
     "text": [
      "\r",
      " 88%|████████▊ | 112/128 [03:39<00:31,  1.94s/it]"
     ]
    },
    {
     "name": "stdout",
     "output_type": "stream",
     "text": [
      "Attack success rate 0.000000\n",
      "307/307 [==============================] - 1s 3ms/step - loss: 4.2917 - accuracy: 0.3266\n",
      " ________________________\n",
      "Accuracy drops 62.337729\n",
      "99/99 [==============================] - 0s 3ms/step - loss: 4.2308 - accuracy: 0.2994\n",
      "Clean test accuracy 29.936659\n",
      "99/99 [==============================] - 0s 3ms/step - loss: 4.7567 - accuracy: 0.0000e+00\n",
      "Attack success rate 0.000000\n"
     ]
    },
    {
     "name": "stderr",
     "output_type": "stream",
     "text": [
      "\r",
      " 88%|████████▊ | 113/128 [03:41<00:28,  1.93s/it]"
     ]
    },
    {
     "name": "stdout",
     "output_type": "stream",
     "text": [
      "307/307 [==============================] - 1s 3ms/step - loss: 4.9753 - accuracy: 0.2609\n",
      " ________________________\n",
      "Accuracy drops 68.907648\n",
      "99/99 [==============================] - 0s 3ms/step - loss: 4.9044 - accuracy: 0.2378\n",
      "Clean test accuracy 23.776722\n",
      "99/99 [==============================] - 0s 3ms/step - loss: 5.6655 - accuracy: 0.0000e+00\n"
     ]
    },
    {
     "name": "stderr",
     "output_type": "stream",
     "text": [
      "\r",
      " 89%|████████▉ | 114/128 [03:42<00:27,  1.94s/it]"
     ]
    },
    {
     "name": "stdout",
     "output_type": "stream",
     "text": [
      "Attack success rate 0.000000\n",
      "307/307 [==============================] - 1s 3ms/step - loss: 5.7719 - accuracy: 0.1855\n",
      " ________________________\n",
      "Accuracy drops 76.444185\n",
      "99/99 [==============================] - 0s 3ms/step - loss: 5.7117 - accuracy: 0.1755\n",
      "Clean test accuracy 17.545527\n",
      "99/99 [==============================] - 0s 3ms/step - loss: 6.7715 - accuracy: 0.0000e+00\n"
     ]
    },
    {
     "name": "stderr",
     "output_type": "stream",
     "text": [
      "\r",
      " 90%|████████▉ | 115/128 [03:44<00:25,  1.94s/it]"
     ]
    },
    {
     "name": "stdout",
     "output_type": "stream",
     "text": [
      "Attack success rate 0.000000\n",
      "307/307 [==============================] - 1s 3ms/step - loss: 5.9848 - accuracy: 0.1740\n",
      " ________________________\n",
      "Accuracy drops 77.596982\n",
      "99/99 [==============================] - 0s 3ms/step - loss: 5.9289 - accuracy: 0.1633\n",
      "Clean test accuracy 16.334125\n",
      "99/99 [==============================] - 0s 3ms/step - loss: 6.3920 - accuracy: 0.0000e+00\n"
     ]
    },
    {
     "name": "stderr",
     "output_type": "stream",
     "text": [
      "\r",
      " 91%|█████████ | 116/128 [03:46<00:23,  1.94s/it]"
     ]
    },
    {
     "name": "stdout",
     "output_type": "stream",
     "text": [
      "Attack success rate 0.000000\n",
      "307/307 [==============================] - 1s 3ms/step - loss: 6.5702 - accuracy: 0.1038\n",
      " ________________________\n",
      "Accuracy drops 84.620879\n",
      "99/99 [==============================] - 0s 3ms/step - loss: 6.5073 - accuracy: 0.0965\n",
      "Clean test accuracy 9.651623\n",
      "99/99 [==============================] - 0s 3ms/step - loss: 6.9814 - accuracy: 0.0000e+00\n"
     ]
    },
    {
     "name": "stderr",
     "output_type": "stream",
     "text": [
      "\r",
      " 91%|█████████▏| 117/128 [03:48<00:21,  1.94s/it]"
     ]
    },
    {
     "name": "stdout",
     "output_type": "stream",
     "text": [
      "Attack success rate 0.000000\n",
      "307/307 [==============================] - 1s 3ms/step - loss: 6.6107 - accuracy: 0.0921\n",
      " ________________________\n",
      "Accuracy drops 85.788978\n",
      "99/99 [==============================] - 0s 3ms/step - loss: 6.5724 - accuracy: 0.0839\n",
      "Clean test accuracy 8.392715\n",
      "99/99 [==============================] - 0s 3ms/step - loss: 7.5831 - accuracy: 0.0000e+00\n"
     ]
    },
    {
     "name": "stderr",
     "output_type": "stream",
     "text": [
      "\r",
      " 92%|█████████▏| 118/128 [03:50<00:19,  1.94s/it]"
     ]
    },
    {
     "name": "stdout",
     "output_type": "stream",
     "text": [
      "Attack success rate 0.000000\n",
      "307/307 [==============================] - 1s 3ms/step - loss: 6.8088 - accuracy: 0.1022\n",
      " ________________________\n",
      "Accuracy drops 84.779005\n",
      "99/99 [==============================] - 0s 3ms/step - loss: 6.7753 - accuracy: 0.0972\n",
      "Clean test accuracy 9.722882\n",
      "99/99 [==============================] - 0s 3ms/step - loss: 7.3887 - accuracy: 0.0000e+00\n"
     ]
    },
    {
     "name": "stderr",
     "output_type": "stream",
     "text": [
      "\r",
      " 93%|█████████▎| 119/128 [03:52<00:17,  1.94s/it]"
     ]
    },
    {
     "name": "stdout",
     "output_type": "stream",
     "text": [
      "Attack success rate 0.000000\n",
      "307/307 [==============================] - 1s 3ms/step - loss: 6.8261 - accuracy: 0.0816\n",
      " ________________________\n",
      "Accuracy drops 86.839757\n",
      "99/99 [==============================] - 0s 3ms/step - loss: 6.8190 - accuracy: 0.0748\n",
      "Clean test accuracy 7.482185\n",
      "99/99 [==============================] - 0s 3ms/step - loss: 7.6816 - accuracy: 0.0000e+00\n"
     ]
    },
    {
     "name": "stderr",
     "output_type": "stream",
     "text": [
      "\r",
      " 94%|█████████▍| 120/128 [03:54<00:15,  1.94s/it]"
     ]
    },
    {
     "name": "stdout",
     "output_type": "stream",
     "text": [
      "Attack success rate 0.000000\n",
      "307/307 [==============================] - 1s 3ms/step - loss: 7.1598 - accuracy: 0.0667\n",
      " ________________________\n",
      "Accuracy drops 88.329211\n",
      "99/99 [==============================] - 0s 3ms/step - loss: 7.1749 - accuracy: 0.0623\n",
      "Clean test accuracy 6.231195\n",
      "99/99 [==============================] - 0s 3ms/step - loss: 7.7729 - accuracy: 0.0000e+00\n"
     ]
    },
    {
     "name": "stderr",
     "output_type": "stream",
     "text": [
      "\r",
      " 95%|█████████▍| 121/128 [03:56<00:13,  1.93s/it]"
     ]
    },
    {
     "name": "stdout",
     "output_type": "stream",
     "text": [
      "Attack success rate 0.000000\n",
      "307/307 [==============================] - 1s 3ms/step - loss: 7.6246 - accuracy: 0.0521\n",
      " ________________________\n",
      "Accuracy drops 89.788060\n",
      "99/99 [==============================] - 0s 3ms/step - loss: 7.6654 - accuracy: 0.0516\n",
      "Clean test accuracy 5.162312\n",
      "99/99 [==============================] - 0s 3ms/step - loss: 8.1336 - accuracy: 0.0000e+00\n"
     ]
    },
    {
     "name": "stderr",
     "output_type": "stream",
     "text": [
      "\r",
      " 95%|█████████▌| 122/128 [03:58<00:11,  1.93s/it]"
     ]
    },
    {
     "name": "stdout",
     "output_type": "stream",
     "text": [
      "Attack success rate 0.000000\n",
      "307/307 [==============================] - 1s 3ms/step - loss: 8.0019 - accuracy: 0.0452\n",
      " ________________________\n",
      "Accuracy drops 90.476677\n",
      "99/99 [==============================] - 0s 3ms/step - loss: 8.0481 - accuracy: 0.0488\n",
      "Clean test accuracy 4.877276\n",
      "99/99 [==============================] - 0s 3ms/step - loss: 7.8634 - accuracy: 0.0000e+00\n"
     ]
    },
    {
     "name": "stderr",
     "output_type": "stream",
     "text": [
      "\r",
      " 96%|█████████▌| 123/128 [04:00<00:09,  1.94s/it]"
     ]
    },
    {
     "name": "stdout",
     "output_type": "stream",
     "text": [
      "Attack success rate 0.000000\n",
      "307/307 [==============================] - 1s 3ms/step - loss: 8.1709 - accuracy: 0.0277\n",
      " ________________________\n",
      "Accuracy drops 92.226275\n",
      "99/99 [==============================] - 0s 3ms/step - loss: 8.2008 - accuracy: 0.0314\n",
      "Clean test accuracy 3.143309\n",
      "99/99 [==============================] - 0s 3ms/step - loss: 7.6744 - accuracy: 0.0000e+00\n"
     ]
    },
    {
     "name": "stderr",
     "output_type": "stream",
     "text": [
      "\r",
      " 97%|█████████▋| 124/128 [04:02<00:07,  1.94s/it]"
     ]
    },
    {
     "name": "stdout",
     "output_type": "stream",
     "text": [
      "Attack success rate 0.000000\n",
      "307/307 [==============================] - 1s 3ms/step - loss: 8.3230 - accuracy: 0.0129\n",
      " ________________________\n",
      "Accuracy drops 93.705528\n",
      "99/99 [==============================] - 0s 3ms/step - loss: 8.3575 - accuracy: 0.0147\n",
      "Clean test accuracy 1.472684\n",
      "99/99 [==============================] - 0s 3ms/step - loss: 7.2624 - accuracy: 0.0000e+00\n"
     ]
    },
    {
     "name": "stderr",
     "output_type": "stream",
     "text": [
      "\r",
      " 98%|█████████▊| 125/128 [04:04<00:05,  1.95s/it]"
     ]
    },
    {
     "name": "stdout",
     "output_type": "stream",
     "text": [
      "Attack success rate 0.000000\n",
      "307/307 [==============================] - 1s 3ms/step - loss: 8.5858 - accuracy: 0.0146\n",
      " ________________________\n",
      "Accuracy drops 93.539749\n",
      "99/99 [==============================] - 0s 3ms/step - loss: 8.6106 - accuracy: 0.0132\n",
      "Clean test accuracy 1.322249\n",
      "99/99 [==============================] - 0s 3ms/step - loss: 6.6086 - accuracy: 0.0000e+00\n"
     ]
    },
    {
     "name": "stderr",
     "output_type": "stream",
     "text": [
      "\r",
      " 98%|█████████▊| 126/128 [04:06<00:03,  1.94s/it]"
     ]
    },
    {
     "name": "stdout",
     "output_type": "stream",
     "text": [
      "Attack success rate 0.000000\n",
      "307/307 [==============================] - 1s 3ms/step - loss: 9.5412 - accuracy: 0.0092\n",
      " ________________________\n",
      "Accuracy drops 94.080442\n",
      "99/99 [==============================] - 0s 3ms/step - loss: 9.5494 - accuracy: 0.0071\n",
      "Clean test accuracy 0.712589\n",
      "99/99 [==============================] - 0s 3ms/step - loss: 7.0815 - accuracy: 0.0000e+00\n"
     ]
    },
    {
     "name": "stderr",
     "output_type": "stream",
     "text": [
      "\r",
      " 99%|█████████▉| 127/128 [04:08<00:01,  1.94s/it]"
     ]
    },
    {
     "name": "stdout",
     "output_type": "stream",
     "text": [
      "Attack success rate 0.000000\n",
      "307/307 [==============================] - 1s 3ms/step - loss: 9.5125 - accuracy: 0.0092\n",
      " ________________________\n",
      "Accuracy drops 94.080442\n",
      "99/99 [==============================] - 0s 3ms/step - loss: 9.5557 - accuracy: 0.0071\n",
      "Clean test accuracy 0.712589\n",
      "99/99 [==============================] - 0s 3ms/step - loss: 7.1690 - accuracy: 0.0000e+00\n"
     ]
    },
    {
     "name": "stderr",
     "output_type": "stream",
     "text": [
      "100%|██████████| 128/128 [04:10<00:00,  1.96s/it]"
     ]
    },
    {
     "name": "stdout",
     "output_type": "stream",
     "text": [
      "Attack success rate 0.000000\n"
     ]
    },
    {
     "name": "stderr",
     "output_type": "stream",
     "text": [
      "\n"
     ]
    },
    {
     "name": "stdout",
     "output_type": "stream",
     "text": [
      "99/99 [==============================] - 0s 4ms/step - loss: 0.3815 - accuracy: 0.9177\n",
      "Clean Classification accuracy for B_prime2: 91.77355766296387\n",
      "99/99 [==============================] - 0s 3ms/step - loss: 0.0037 - accuracy: 1.0000\n",
      "Attack Success Rate for B_prime2: 100.0\n",
      "99/99 [==============================] - 0s 3ms/step - loss: 0.7375 - accuracy: 0.8397\n",
      "Clean Classification accuracy for B_prime10: 83.97466540336609\n",
      "99/99 [==============================] - 0s 3ms/step - loss: 0.0502 - accuracy: 1.0000\n",
      "Attack Success Rate for B_prime10: 100.0\n",
      "99/99 [==============================] - 0s 4ms/step - loss: 1.2116 - accuracy: 0.7287\n",
      "Clean Classification accuracy for B_prime20: 72.86618947982788\n",
      "99/99 [==============================] - 0s 3ms/step - loss: 0.7629 - accuracy: 0.5838\n",
      "Attack Success Rate for B_prime20: 58.38479995727539\n",
      "99/99 [==============================] - 0s 4ms/step - loss: 1.7663 - accuracy: 0.6271\n",
      "Clean Classification accuracy for B_prime30: 62.70784139633179\n",
      "99/99 [==============================] - 0s 3ms/step - loss: 1.3230 - accuracy: 0.2605\n",
      "Attack Success Rate for B_prime30: 26.049089431762695\n"
     ]
    }
   ],
   "source": [
    "from tensorflow.python.keras.callbacks import ModelCheckpoint\n",
    "from tensorflow import keras as keras\n",
    "import matplotlib.pyplot as plt\n",
    "from multiprocessing import Process\n",
    "from tqdm import tqdm\n",
    "%matplotlib inline\n",
    "\n",
    "clean_valid_set = [0, 0, 0, 0]\n",
    "attack_success_set = [0, 0, 0, 0]\n",
    "totalPercentChannelsRemoved = np.zeros((128))\n",
    "totalCleanAccuracyValid = np.zeros((128))\n",
    "totalAttackSuccessRateValid = np.zeros((128))\n",
    "totalCleanAccuracyTest = np.zeros((128))\n",
    "totalAttackSuccessRateTest = np.zeros((128))\n",
    "percentValidationAccuracy = []\n",
    "clean_accuracy = 0\n",
    "\n",
    "\n",
    "def lr_schedule(epoch):\n",
    "    lrate = 0.001\n",
    "    if epoch > 10:\n",
    "        lrate = 0.0005\n",
    "    elif epoch > 20:\n",
    "        lrate = 0.0003\n",
    "    else:\n",
    "        lrate = 0.0001\n",
    "    return lrate\n",
    "\n",
    "\n",
    "def defense():\n",
    "    param = {\n",
    "        \"dataset\": \"GTSRB\",           # GTSRB\n",
    "        \"target_label\": 10,              # target label\n",
    "        \"poisoning_rate\": 0.05,         # ratio of poisoned samples\n",
    "        \"label_dim\": 43,\n",
    "        \"channel_list\": [1, 2],         # [0,1,2] means YUV channels, [1,2] means UV channels\n",
    "        \"magnitude\": 30,\n",
    "        \"YUV\": True,\n",
    "        \"window_size\": 32,\n",
    "        \"pos_list\": [(15, 15), (31, 31)],\n",
    "    }\n",
    "\n",
    "    x_train, y_train, x_test, y_test = get_data(param)\n",
    "    cl_x_valid = x_train\n",
    "    cl_y_valid = y_train\n",
    "    cl_y_valid = keras.utils.to_categorical(cl_y_valid, param[\"label_dim\"])\n",
    "\n",
    "    x_train = poison(x_train, y_train, param)\n",
    "\n",
    "    x_test_pos = impose(x_test.copy(), y_test.copy(), param)\n",
    "    y_test_pos = np.array([[param[\"target_label\"]]] * x_test_pos.shape[0], dtype=np.long)\n",
    "\n",
    "    param[\"input_shape\"] = x_train.shape[1:]\n",
    "    y_train = keras.utils.to_categorical(y_train, param[\"label_dim\"])\n",
    "    y_test = keras.utils.to_categorical(y_test, param[\"label_dim\"])\n",
    "    y_test_pos = keras.utils.to_categorical(y_test_pos, param[\"label_dim\"])\n",
    "    \n",
    "    cl_x_test = x_test\n",
    "    cl_y_test = y_test\n",
    "    bd_x_valid = x_test_pos\n",
    "    bd_y_valid = y_test_pos\n",
    "\n",
    "    model = get_model(param)\n",
    "    B = get_model(param)\n",
    "\n",
    "    filepath = \"model/e885e2ec2414bdb0495347e5e59fbfba.hdf5\"\n",
    " \n",
    "    B.load_weights(filepath)\n",
    "    model.load_weights(filepath)\n",
    "    \n",
    "    model.compile(loss=keras.losses.categorical_crossentropy, optimizer='adam', metrics=['accuracy'])\n",
    "    scores_normal = model.evaluate(cl_x_valid, cl_y_valid, batch_size=128, verbose=1)\n",
    "    clean_accuracy = scores_normal[1] * 100\n",
    "    print(\"Clean validation accuracy before pruning {0:3.6f}\".format(clean_accuracy))\n",
    "    K.clear_session()\n",
    "    \n",
    "    flag = [0, 0, 0, 0]\n",
    "    i = 0\n",
    "    # Redefine model to output right after the last pooling layer (\"max_pooling2d_2\")\n",
    "    intermediate_model = Model(inputs=model.inputs, outputs=model.get_layer('max_pooling2d_2').output)\n",
    "\n",
    "    # Get feature map for last pooling layer (\"pool_3\") using the clean validation data and intermediate_model\n",
    "    feature_maps_cl = intermediate_model.predict(cl_x_valid)\n",
    "\n",
    "    # Get average activation value of each channel in last pooling layer (\"max_pooling2d_2\")\n",
    "    averageActivationsCl = np.mean(feature_maps_cl,axis=(0,1,2))\n",
    "\n",
    "    # Store the indices of average activation values (averageActivationsCl) in increasing order\n",
    "    idxToPrune = np.argsort(averageActivationsCl)\n",
    "\n",
    "    # Get the conv_4 layer weights and biases from the original network that will be used for prunning\n",
    "\n",
    "    lastConvLayerWeights = model.layers[19].get_weights()[0]\n",
    "    lastConvLayerBiases  = model.layers[19].get_weights()[1]\n",
    "\n",
    "    #prun channel with lowest weight first\n",
    "    for chIdx in tqdm(idxToPrune):\n",
    "\n",
    "        # Prune one channel at a time\n",
    "        lastConvLayerWeights[:,:,:,chIdx] = 0\n",
    "        lastConvLayerBiases[chIdx] = 0\n",
    "\n",
    "        # Update weights and biases of B_clone\n",
    "        model.layers[19].set_weights([lastConvLayerWeights, lastConvLayerBiases])\n",
    "\n",
    "        # Evaluate the updated model's (B_clone) clean validation accuracy\n",
    "        scores_normal = model.evaluate(cl_x_valid, cl_y_valid, batch_size=128, verbose=1)\n",
    "        clean_accuracy_valid = scores_normal[1] * 100\n",
    "        print(\" ________________________\")\n",
    "        #print(clean_accuracy)\n",
    "        print(\"Accuracy drops {0:3.6f}\".format(clean_accuracy-clean_accuracy_valid))\n",
    "        #print(clean_accuracy_valid)\n",
    "        # If drop in clean_accuracy_valid is just greater (or equal to) than the desired threshold compared to clean_accuracy, then save B_clone as B_prime \n",
    "        if clean_accuracy - clean_accuracy_valid >= 2 and not flag[0]:\n",
    "            # Save B_clone as B_prime \n",
    "            print(\"The accuracy drops at least 2%, saved the model\")\n",
    "            model.save('model_X=2.h5')\n",
    "            model.save_weights('weightX=2.h5')\n",
    "            flag[0] = 1\n",
    "        if clean_accuracy - clean_accuracy_valid >= 10 and not flag[1]:\n",
    "            # Save B_clone as B_prime \n",
    "            print(\"The accuracy drops at least 10%, saved the model\")\n",
    "            model.save('model_X=10.h5')\n",
    "            model.save_weights('weightX=10.h5')\n",
    "            flag[1] = 1\n",
    "        if clean_accuracy - clean_accuracy_valid >= 20 and not flag[2]:\n",
    "            # Save B_clone as B_prime \n",
    "            print(\"The accuracy drops at least 20%, saved the model\")\n",
    "            model.save('model_X=20.h5')\n",
    "            model.save_weights('weightX=20.h5')\n",
    "            flag[2] = 1\n",
    "        if clean_accuracy - clean_accuracy_valid >= 30 and not flag[3]:\n",
    "            # Save B_clone as B_prime \n",
    "            print(\"The accuracy drops at least 30%, saved the model\")\n",
    "            model.save('model_X=30.h5')\n",
    "            model.save_weights('weightX=30.h5')\n",
    "            flag[3] = 1\n",
    "        \n",
    "        scores_normal_2 = model.evaluate(cl_x_test, cl_y_test, batch_size=128, verbose=1)\n",
    "        clean_accuracy_test = scores_normal_2[1] * 100\n",
    "        print(\"Clean test accuracy {0:3.6f}\".format(clean_accuracy_test))\n",
    "        bd_scores_normal_2 = model.evaluate(bd_x_valid, bd_y_valid, batch_size=128, verbose=1)\n",
    "        asr_test = bd_scores_normal_2[1] * 100\n",
    "        print(\"Attack success rate {0:3.6f}\".format(asr_test))\n",
    "        percentChannelsRemoved=(i + 1) / lastConvLayerWeights.shape[3]\n",
    "        \n",
    "        K.clear_session()\n",
    "\n",
    "        totalPercentChannelsRemoved[i] = percentChannelsRemoved\n",
    "        totalCleanAccuracyValid[i] = clean_accuracy_valid\n",
    "        totalCleanAccuracyTest[i] = clean_accuracy_test\n",
    "        totalAttackSuccessRateTest[i] = asr_test\n",
    "        i+=1\n",
    "        \n",
    "    \n",
    "    \n",
    "    \n",
    "    B_prime2 = keras.models.load_model(\"model_X=2.h5\")\n",
    "    B_prime2.load_weights(\"weightX=2.h5\")\n",
    "    \n",
    "    B_prime10 = keras.models.load_model(\"model_X=10.h5\")\n",
    "    B_prime10.load_weights(\"weightX=10.h5\")\n",
    "    \n",
    "    B_prime20 = keras.models.load_model(\"model_X=20.h5\")\n",
    "    B_prime20.load_weights(\"weightX=20.h5\")\n",
    "    \n",
    "    B_prime30 = keras.models.load_model(\"model_X=30.h5\")\n",
    "    B_prime30.load_weights(\"weightX=30.h5\")\n",
    "    \n",
    "\n",
    "    \n",
    "    scores_normal_2 = B_prime2.evaluate(cl_x_test, y_test, batch_size=128, verbose=1)\n",
    "    clean_accuracy_valid_2 = scores_normal_2[1] * 100\n",
    "    print('Clean Classification accuracy for B_prime2:', clean_accuracy_valid_2)\n",
    "\n",
    "    bd_scores_normal_2 = B_prime2.evaluate(bd_x_valid, bd_y_valid, batch_size=128, verbose=1)\n",
    "    asr_2 = bd_scores_normal_2[1] * 100\n",
    "    print('Attack Success Rate for B_prime2:', asr_2)\n",
    "    \n",
    "    clean_valid_set[0] = clean_accuracy_valid_2\n",
    "    attack_success_set[0] = asr_2\n",
    "    \n",
    "    scores_normal_10 = B_prime10.evaluate(cl_x_test, cl_y_test, batch_size=128, verbose=1)\n",
    "    clean_accuracy_valid_10 = scores_normal_10[1] * 100\n",
    "    print('Clean Classification accuracy for B_prime10:', clean_accuracy_valid_10)\n",
    "\n",
    "    bd_scores_normal_10 = B_prime10.evaluate(bd_x_valid, bd_y_valid, batch_size=128, verbose=1)\n",
    "    asr_10 = bd_scores_normal_10[1] * 100\n",
    "    print('Attack Success Rate for B_prime10:', asr_10)\n",
    "    \n",
    "    clean_valid_set[1] = clean_accuracy_valid_10\n",
    "    attack_success_set[1] = asr_10\n",
    "    \n",
    "    scores_normal_20 = B_prime20.evaluate(cl_x_test, cl_y_test, batch_size=128, verbose=1)\n",
    "    clean_accuracy_valid_20 = scores_normal_20[1] * 100\n",
    "    print('Clean Classification accuracy for B_prime20:', clean_accuracy_valid_20)\n",
    "\n",
    "    bd_scores_normal_20 = B_prime20.evaluate(bd_x_valid, bd_y_valid, batch_size=128, verbose=1)\n",
    "    asr_20 = bd_scores_normal_20[1] * 100\n",
    "    print('Attack Success Rate for B_prime20:', asr_20)\n",
    "    \n",
    "    clean_valid_set[2] = clean_accuracy_valid_20\n",
    "    attack_success_set[2] = asr_20\n",
    "    \n",
    "    scores_normal_30 = B_prime30.evaluate(cl_x_test, cl_y_test, batch_size=128, verbose=1)\n",
    "    clean_accuracy_valid_30 = scores_normal_30[1] * 100\n",
    "    print('Clean Classification accuracy for B_prime30:', clean_accuracy_valid_30)\n",
    "\n",
    "    bd_scores_normal_30 = B_prime30.evaluate(bd_x_valid, bd_y_valid, batch_size=128, verbose=1)\n",
    "    asr_30 = bd_scores_normal_30[1] * 100\n",
    "    print('Attack Success Rate for B_prime30:', asr_30)\n",
    "    \n",
    "    clean_valid_set[3] = clean_accuracy_valid_30\n",
    "    attack_success_set[3] = asr_30\n",
    "        \n",
    "if __name__ == \"__main__\":\n",
    "    # To avoid keras eat all GPU memory\n",
    "    gpus = tf.config.experimental.list_physical_devices(device_type='GPU')\n",
    "    for gpu in gpus:\n",
    "        tf.config.experimental.set_memory_growth(gpu, True)\n",
    "\n",
    "    defense()\n",
    "\n"
   ]
  },
  {
   "cell_type": "code",
   "execution_count": 5,
   "id": "677e414f",
   "metadata": {},
   "outputs": [
    {
     "data": {
      "image/png": "[encoded data removed]",
      "text/plain": [
       "<Figure size 640x480 with 1 Axes>"
      ]
     },
     "metadata": {},
     "output_type": "display_data"
    }
   ],
   "source": [
    "N = 4\n",
    "ind = np.arange(N)  # the x locations for the groups\n",
    "width = 0.27        # the width of the bars\n",
    "\n",
    "fig = plt.figure()\n",
    "ax = fig.add_subplot(111)\n",
    "\n",
    "yvals = clean_valid_set\n",
    "rects1 = ax.bar(ind, yvals, width, color='b')\n",
    "zvals = attack_success_set\n",
    "rects2 = ax.bar(ind+width, zvals, width, color='r')\n",
    "\n",
    "ax.set_ylabel('Scores')\n",
    "ax.set_xticks(ind+width/2)\n",
    "ax.set_xticklabels( ('2%', '10%', '20%', '30%') )\n",
    "ax.legend( (rects1[0], rects2[0]), ('accuracy', 'attack SR') ,bbox_to_anchor=(1.3, 1), loc='upper right', ncol=1)\n",
    "ax.set_title(\"Performance of the repaired models (B') on the test data\", y=1.02)\n",
    "ax.set_xlabel('Validation accuracy drop in %')\n",
    "\n",
    "# Hide the right and top spines\n",
    "ax.spines['right'].set_visible(False)\n",
    "ax.spines['top'].set_visible(False)\n",
    "\n",
    "# Only show ticks on the left and bottom spines\n",
    "ax.yaxis.set_ticks_position('left')\n",
    "ax.xaxis.set_ticks_position('bottom')\n",
    "\n",
    "def autolabel(rects):\n",
    "    for rect in rects:\n",
    "        h = rect.get_height()\n",
    "        ax.text(rect.get_x()+rect.get_width()/2., 1.02*h, '%.2f'%h,\n",
    "                ha='center', va='bottom',fontsize=7)\n",
    "\n",
    "autolabel(rects1)\n",
    "autolabel(rects2)\n",
    "fig.tight_layout()"
   ]
  },
  {
   "cell_type": "code",
   "execution_count": 6,
   "id": "29ee4343",
   "metadata": {},
   "outputs": [
    {
     "data": {
      "image/png": "[encoded data removed]",
      "text/plain": [
       "<Figure size 1000x500 with 1 Axes>"
      ]
     },
     "metadata": {},
     "output_type": "display_data"
    }
   ],
   "source": [
    "import matplotlib.font_manager as font_manager\n",
    "\n",
    "fig, axs = plt.subplots(figsize=(10, 5))\n",
    "axs.set_yticks(np.arange(0, 101, 5))\n",
    "axs.set_xticks(np.arange(0, 1.001, 0.05))\n",
    "axs.tick_params(axis='x', labelsize=8)\n",
    "axs.tick_params(axis='y', labelsize=8)\n",
    "axs.set_ylabel('rate', fontsize=10)\n",
    "axs.set_xlabel('percent of channels removed', fontsize=10)\n",
    "axs.set_title(\"Accuracy on the clean test data set and attack success rate on the backdoored \\n test data\",fontsize=10)\n",
    "axs.plot(totalPercentChannelsRemoved, totalCleanAccuracyTest, 'b-', label=\"clean classification accuracy\")\n",
    "axs.plot(totalPercentChannelsRemoved, totalAttackSuccessRateTest, 'r-', label='attack success rate')\n",
    "font = font_manager.FontProperties(size=8)\n",
    "axs.legend(loc='best', bbox_to_anchor=(1, 1), prop=font)\n",
    "plt.grid()\n",
    "fig.tight_layout()"
   ]
  }
 ],
 "metadata": {
  "kernelspec": {
   "display_name": "Python 3",
   "language": "python",
   "name": "python3"
  },
  "language_info": {
   "codemirror_mode": {
    "name": "ipython",
    "version": 3
   },
   "file_extension": ".py",
   "mimetype": "text/x-python",
   "name": "python",
   "nbconvert_exporter": "python",
   "pygments_lexer": "ipython3",
   "version": "3.7.0"
  }
 },
 "nbformat": 4,
 "nbformat_minor": 5
}
